{
 "cells": [
  {
   "cell_type": "markdown",
   "id": "5cee4ce7",
   "metadata": {},
   "source": [
    "## Loading libraries"
   ]
  },
  {
   "cell_type": "code",
   "execution_count": 1,
   "id": "1c6f7706",
   "metadata": {},
   "outputs": [
    {
     "name": "stdout",
     "output_type": "stream",
     "text": [
      "1.0.2\n"
     ]
    }
   ],
   "source": [
    "# general packages for data manipulation\n",
    "import sklearn \n",
    "import numpy as np\n",
    "import pandas as pd\n",
    "\n",
    "# visualizations\n",
    "import seaborn as sns \n",
    "import matplotlib.pyplot as plt\n",
    "\n",
    "%matplotlib inline\n",
    "sns.set_style(\"whitegrid\")\n",
    "plt.style.use(\"fivethirtyeight\")\n",
    "\n",
    "# consistent size plots\n",
    "from pylab import rcParams\n",
    "rcParams['figure.figsize']=12,5\n",
    "rcParams['axes.labelsize']=12\n",
    "rcParams['xtick.labelsize']=12\n",
    "rcParams['ytick.labelsize']=12\n",
    "\n",
    "# handle warnings\n",
    "import warnings\n",
    "warnings.filterwarnings(action='ignore',category=DeprecationWarning)\n",
    "warnings.filterwarnings(action='ignore',category=FutureWarning)\n",
    "\n",
    "# display pandas dataframe columns \n",
    "pd.options.display.max_columns = None\n",
    "\n",
    "\n",
    "# Load the sklearn stuff\n",
    "import sklearn \n",
    "print(sklearn.__version__)\n",
    "\n",
    "# making text data numeric\n",
    "from sklearn.feature_extraction.text import CountVectorizer, TfidfVectorizer, TfidfTransformer\n",
    "\n",
    "# making numeric data comparable\n",
    "from sklearn.preprocessing import StandardScaler\n",
    "\n",
    "# experimental regime and pipeline\n",
    "from sklearn.pipeline import Pipeline\n",
    "from sklearn.pipeline import make_pipeline\n",
    "from sklearn.compose import make_column_transformer\n",
    "from sklearn.model_selection import train_test_split, GridSearchCV, cross_val_score\n",
    "\n",
    "# machine learning algorithm\n",
    "from sklearn.svm import SVC\n",
    "from sklearn.linear_model import SGDClassifier\n",
    "\n",
    "# evaluation metrics\n",
    "from sklearn.metrics import classification_report, confusion_matrix, ConfusionMatrixDisplay\n",
    "\n",
    "\n",
    "# get reproducible results\n",
    "np.random.seed(42)\n",
    "#tf.random.set_seed(42)"
   ]
  },
  {
   "cell_type": "markdown",
   "id": "eb94d5df",
   "metadata": {},
   "source": [
    "## Data inspection"
   ]
  },
  {
   "cell_type": "code",
   "execution_count": 2,
   "id": "b29aff69",
   "metadata": {},
   "outputs": [
    {
     "data": {
      "text/html": [
       "<div>\n",
       "<style scoped>\n",
       "    .dataframe tbody tr th:only-of-type {\n",
       "        vertical-align: middle;\n",
       "    }\n",
       "\n",
       "    .dataframe tbody tr th {\n",
       "        vertical-align: top;\n",
       "    }\n",
       "\n",
       "    .dataframe thead th {\n",
       "        text-align: right;\n",
       "    }\n",
       "</style>\n",
       "<table border=\"1\" class=\"dataframe\">\n",
       "  <thead>\n",
       "    <tr style=\"text-align: right;\">\n",
       "      <th></th>\n",
       "      <th>id</th>\n",
       "      <th>tweet</th>\n",
       "      <th>subtask_a</th>\n",
       "      <th>subtask_b</th>\n",
       "      <th>subtask_c</th>\n",
       "    </tr>\n",
       "  </thead>\n",
       "  <tbody>\n",
       "    <tr>\n",
       "      <th>0</th>\n",
       "      <td>86426</td>\n",
       "      <td>@USER She should ask a few native Americans wh...</td>\n",
       "      <td>OFF</td>\n",
       "      <td>UNT</td>\n",
       "      <td>NaN</td>\n",
       "    </tr>\n",
       "    <tr>\n",
       "      <th>1</th>\n",
       "      <td>90194</td>\n",
       "      <td>@USER @USER Go home you’re drunk!!! @USER #MAG...</td>\n",
       "      <td>OFF</td>\n",
       "      <td>TIN</td>\n",
       "      <td>IND</td>\n",
       "    </tr>\n",
       "    <tr>\n",
       "      <th>2</th>\n",
       "      <td>16820</td>\n",
       "      <td>Amazon is investigating Chinese employees who ...</td>\n",
       "      <td>NOT</td>\n",
       "      <td>NaN</td>\n",
       "      <td>NaN</td>\n",
       "    </tr>\n",
       "    <tr>\n",
       "      <th>3</th>\n",
       "      <td>62688</td>\n",
       "      <td>@USER Someone should'veTaken\" this piece of sh...</td>\n",
       "      <td>OFF</td>\n",
       "      <td>UNT</td>\n",
       "      <td>NaN</td>\n",
       "    </tr>\n",
       "    <tr>\n",
       "      <th>4</th>\n",
       "      <td>43605</td>\n",
       "      <td>@USER @USER Obama wanted liberals &amp;amp; illega...</td>\n",
       "      <td>NOT</td>\n",
       "      <td>NaN</td>\n",
       "      <td>NaN</td>\n",
       "    </tr>\n",
       "  </tbody>\n",
       "</table>\n",
       "</div>"
      ],
      "text/plain": [
       "      id                                              tweet subtask_a  \\\n",
       "0  86426  @USER She should ask a few native Americans wh...       OFF   \n",
       "1  90194  @USER @USER Go home you’re drunk!!! @USER #MAG...       OFF   \n",
       "2  16820  Amazon is investigating Chinese employees who ...       NOT   \n",
       "3  62688  @USER Someone should'veTaken\" this piece of sh...       OFF   \n",
       "4  43605  @USER @USER Obama wanted liberals &amp; illega...       NOT   \n",
       "\n",
       "  subtask_b subtask_c  \n",
       "0       UNT       NaN  \n",
       "1       TIN       IND  \n",
       "2       NaN       NaN  \n",
       "3       UNT       NaN  \n",
       "4       NaN       NaN  "
      ]
     },
     "execution_count": 2,
     "metadata": {},
     "output_type": "execute_result"
    }
   ],
   "source": [
    "data_path = 'OLIDv1.0_sharedtask/olid-training-v1.0.tsv'\n",
    "OLID_train = pd.read_csv(data_path, delimiter='\\t', encoding='utf-8')\n",
    "OLID_train.head()"
   ]
  },
  {
   "cell_type": "code",
   "execution_count": 3,
   "id": "b8b00a29",
   "metadata": {},
   "outputs": [
    {
     "data": {
      "text/html": [
       "<div>\n",
       "<style scoped>\n",
       "    .dataframe tbody tr th:only-of-type {\n",
       "        vertical-align: middle;\n",
       "    }\n",
       "\n",
       "    .dataframe tbody tr th {\n",
       "        vertical-align: top;\n",
       "    }\n",
       "\n",
       "    .dataframe thead th {\n",
       "        text-align: right;\n",
       "    }\n",
       "</style>\n",
       "<table border=\"1\" class=\"dataframe\">\n",
       "  <thead>\n",
       "    <tr style=\"text-align: right;\">\n",
       "      <th></th>\n",
       "      <th>id</th>\n",
       "      <th>text</th>\n",
       "      <th>label</th>\n",
       "      <th>target</th>\n",
       "    </tr>\n",
       "  </thead>\n",
       "  <tbody>\n",
       "    <tr>\n",
       "      <th>0</th>\n",
       "      <td>86426</td>\n",
       "      <td>@USER She should ask a few native Americans wh...</td>\n",
       "      <td>OFF</td>\n",
       "      <td>1</td>\n",
       "    </tr>\n",
       "    <tr>\n",
       "      <th>1</th>\n",
       "      <td>90194</td>\n",
       "      <td>@USER @USER Go home you’re drunk!!! @USER #MAG...</td>\n",
       "      <td>OFF</td>\n",
       "      <td>1</td>\n",
       "    </tr>\n",
       "    <tr>\n",
       "      <th>2</th>\n",
       "      <td>16820</td>\n",
       "      <td>Amazon is investigating Chinese employees who ...</td>\n",
       "      <td>NOT</td>\n",
       "      <td>0</td>\n",
       "    </tr>\n",
       "    <tr>\n",
       "      <th>3</th>\n",
       "      <td>62688</td>\n",
       "      <td>@USER Someone should'veTaken\" this piece of sh...</td>\n",
       "      <td>OFF</td>\n",
       "      <td>1</td>\n",
       "    </tr>\n",
       "    <tr>\n",
       "      <th>4</th>\n",
       "      <td>43605</td>\n",
       "      <td>@USER @USER Obama wanted liberals &amp;amp; illega...</td>\n",
       "      <td>NOT</td>\n",
       "      <td>0</td>\n",
       "    </tr>\n",
       "  </tbody>\n",
       "</table>\n",
       "</div>"
      ],
      "text/plain": [
       "      id                                               text label  target\n",
       "0  86426  @USER She should ask a few native Americans wh...   OFF       1\n",
       "1  90194  @USER @USER Go home you’re drunk!!! @USER #MAG...   OFF       1\n",
       "2  16820  Amazon is investigating Chinese employees who ...   NOT       0\n",
       "3  62688  @USER Someone should'veTaken\" this piece of sh...   OFF       1\n",
       "4  43605  @USER @USER Obama wanted liberals &amp; illega...   NOT       0"
      ]
     },
     "execution_count": 3,
     "metadata": {},
     "output_type": "execute_result"
    }
   ],
   "source": [
    "OLID_train.rename({'tweet': 'text', 'subtask_a': 'label'}, axis=1, inplace=True) # rename columns if necessary\n",
    "OLID_train['target'] = OLID_train.label.map({'NOT':0, 'OFF':1}) # convert label to a numerical variable\n",
    "OLID_train.drop(['subtask_b', 'subtask_c'], axis=1, inplace=True) # drop irrelevant columns\n",
    "OLID_train.head()\n",
    "\n",
    "# create a copy of the original data to work with \n",
    "df = OLID_train.copy()\n",
    "df.head()"
   ]
  },
  {
   "cell_type": "code",
   "execution_count": 4,
   "id": "e8b3e92d",
   "metadata": {},
   "outputs": [
    {
     "data": {
      "text/plain": [
       "id        0\n",
       "text      0\n",
       "label     0\n",
       "target    0\n",
       "dtype: int64"
      ]
     },
     "execution_count": 4,
     "metadata": {},
     "output_type": "execute_result"
    }
   ],
   "source": [
    "# check for missing values\n",
    "df.isnull().sum()"
   ]
  },
  {
   "cell_type": "code",
   "execution_count": 5,
   "id": "2b517fc2",
   "metadata": {},
   "outputs": [
    {
     "data": {
      "text/plain": [
       "0"
      ]
     },
     "execution_count": 5,
     "metadata": {},
     "output_type": "execute_result"
    }
   ],
   "source": [
    "# check for duplicates\n",
    "df.duplicated().sum()"
   ]
  },
  {
   "cell_type": "code",
   "execution_count": 6,
   "id": "f7f2770e",
   "metadata": {
    "scrolled": false
   },
   "outputs": [
    {
     "data": {
      "text/html": [
       "<div>\n",
       "<style scoped>\n",
       "    .dataframe tbody tr th:only-of-type {\n",
       "        vertical-align: middle;\n",
       "    }\n",
       "\n",
       "    .dataframe tbody tr th {\n",
       "        vertical-align: top;\n",
       "    }\n",
       "\n",
       "    .dataframe thead th {\n",
       "        text-align: right;\n",
       "    }\n",
       "</style>\n",
       "<table border=\"1\" class=\"dataframe\">\n",
       "  <thead>\n",
       "    <tr style=\"text-align: right;\">\n",
       "      <th></th>\n",
       "      <th>label</th>\n",
       "      <th>count</th>\n",
       "      <th>percentage</th>\n",
       "    </tr>\n",
       "  </thead>\n",
       "  <tbody>\n",
       "    <tr>\n",
       "      <th>0</th>\n",
       "      <td>NOT</td>\n",
       "      <td>8840</td>\n",
       "      <td>66.767372</td>\n",
       "    </tr>\n",
       "    <tr>\n",
       "      <th>1</th>\n",
       "      <td>OFF</td>\n",
       "      <td>4400</td>\n",
       "      <td>33.232628</td>\n",
       "    </tr>\n",
       "  </tbody>\n",
       "</table>\n",
       "</div>"
      ],
      "text/plain": [
       "  label  count  percentage\n",
       "0   NOT   8840   66.767372\n",
       "1   OFF   4400   33.232628"
      ]
     },
     "execution_count": 6,
     "metadata": {},
     "output_type": "execute_result"
    }
   ],
   "source": [
    "# check distributions --> Note data imbalance of 2:1 for the negative class, i.e., NOT (0)\n",
    "df_Stat=df[['label','text']].groupby('label').count().reset_index()\n",
    "df_Stat.columns=['label','count']\n",
    "df_Stat['percentage']=(df_Stat['count']/df_Stat['count'].sum())*100\n",
    "df_Stat"
   ]
  },
  {
   "cell_type": "markdown",
   "id": "475daeac",
   "metadata": {},
   "source": [
    "## Data preprocessing/cleaning"
   ]
  },
  {
   "cell_type": "code",
   "execution_count": 7,
   "id": "5ab79569",
   "metadata": {},
   "outputs": [
    {
     "name": "stderr",
     "output_type": "stream",
     "text": [
      "[nltk_data] Downloading package stopwords to /Users/Aron/nltk_data...\n",
      "[nltk_data]   Package stopwords is already up-to-date!\n",
      "[nltk_data] Downloading package stopwords to /Users/Aron/nltk_data...\n",
      "[nltk_data]   Package stopwords is already up-to-date!\n"
     ]
    },
    {
     "data": {
      "text/html": [
       "<div>\n",
       "<style scoped>\n",
       "    .dataframe tbody tr th:only-of-type {\n",
       "        vertical-align: middle;\n",
       "    }\n",
       "\n",
       "    .dataframe tbody tr th {\n",
       "        vertical-align: top;\n",
       "    }\n",
       "\n",
       "    .dataframe thead th {\n",
       "        text-align: right;\n",
       "    }\n",
       "</style>\n",
       "<table border=\"1\" class=\"dataframe\">\n",
       "  <thead>\n",
       "    <tr style=\"text-align: right;\">\n",
       "      <th></th>\n",
       "      <th>id</th>\n",
       "      <th>text</th>\n",
       "      <th>label</th>\n",
       "      <th>target</th>\n",
       "      <th>clean</th>\n",
       "    </tr>\n",
       "  </thead>\n",
       "  <tbody>\n",
       "    <tr>\n",
       "      <th>0</th>\n",
       "      <td>86426</td>\n",
       "      <td>@USER She should ask a few native Americans wh...</td>\n",
       "      <td>OFF</td>\n",
       "      <td>1</td>\n",
       "      <td>user ask native american take</td>\n",
       "    </tr>\n",
       "    <tr>\n",
       "      <th>1</th>\n",
       "      <td>90194</td>\n",
       "      <td>@USER @USER Go home you’re drunk!!! @USER #MAG...</td>\n",
       "      <td>OFF</td>\n",
       "      <td>1</td>\n",
       "      <td>user user go home drunk user maga trump url</td>\n",
       "    </tr>\n",
       "    <tr>\n",
       "      <th>2</th>\n",
       "      <td>16820</td>\n",
       "      <td>Amazon is investigating Chinese employees who ...</td>\n",
       "      <td>NOT</td>\n",
       "      <td>0</td>\n",
       "      <td>amazon investigating chinese employee selling ...</td>\n",
       "    </tr>\n",
       "    <tr>\n",
       "      <th>3</th>\n",
       "      <td>62688</td>\n",
       "      <td>@USER Someone should'veTaken\" this piece of sh...</td>\n",
       "      <td>OFF</td>\n",
       "      <td>1</td>\n",
       "      <td>user someone vetaken piece shit volcano</td>\n",
       "    </tr>\n",
       "    <tr>\n",
       "      <th>4</th>\n",
       "      <td>43605</td>\n",
       "      <td>@USER @USER Obama wanted liberals &amp;amp; illega...</td>\n",
       "      <td>NOT</td>\n",
       "      <td>0</td>\n",
       "      <td>user user obama wanted liberal amp illegals mo...</td>\n",
       "    </tr>\n",
       "  </tbody>\n",
       "</table>\n",
       "</div>"
      ],
      "text/plain": [
       "      id                                               text label  target  \\\n",
       "0  86426  @USER She should ask a few native Americans wh...   OFF       1   \n",
       "1  90194  @USER @USER Go home you’re drunk!!! @USER #MAG...   OFF       1   \n",
       "2  16820  Amazon is investigating Chinese employees who ...   NOT       0   \n",
       "3  62688  @USER Someone should'veTaken\" this piece of sh...   OFF       1   \n",
       "4  43605  @USER @USER Obama wanted liberals &amp; illega...   NOT       0   \n",
       "\n",
       "                                               clean  \n",
       "0                      user ask native american take  \n",
       "1        user user go home drunk user maga trump url  \n",
       "2  amazon investigating chinese employee selling ...  \n",
       "3            user someone vetaken piece shit volcano  \n",
       "4  user user obama wanted liberal amp illegals mo...  "
      ]
     },
     "execution_count": 7,
     "metadata": {},
     "output_type": "execute_result"
    }
   ],
   "source": [
    "import re\n",
    "import nltk\n",
    "from nltk.corpus import stopwords\n",
    "nltk.download('stopwords')\n",
    "\n",
    "nltk.download('stopwords')\n",
    "eng_stops = set(stopwords.words('english'))\n",
    "\n",
    "from nltk.stem import WordNetLemmatizer \n",
    "lemmatizer = WordNetLemmatizer() \n",
    "\n",
    "def clean(text):\n",
    "    # remove all the special characters\n",
    "    text = re.sub('[^a-zA-Z]', ' ',text) \n",
    "    # convert all letters to lower case\n",
    "    words = text.lower().split()\n",
    "    # remove stop words\n",
    "    words = [w for w in words if not w in eng_stops]    \n",
    "    # lemmatize all words\n",
    "    words = [lemmatizer.lemmatize(word) for word in words]\n",
    "    # join all words back to text\n",
    "    return (' '.join(words))\n",
    "\n",
    "df['clean'] = df['text'].apply(lambda x: clean(x))\n",
    "df.head()\n",
    "\n",
    "# Note: feature extraction is performed BEFORE preprocessing, as this gave significantly results than cleaned data\n",
    "# Preprocessed data will only be used when tfidf-vectorizing text data (see below), except for the neural model..."
   ]
  },
  {
   "cell_type": "markdown",
   "id": "d765c18f",
   "metadata": {},
   "source": [
    "## Intelligent SGD classifier baseline (no additional features)"
   ]
  },
  {
   "cell_type": "code",
   "execution_count": 8,
   "id": "79ea0340",
   "metadata": {},
   "outputs": [
    {
     "name": "stdout",
     "output_type": "stream",
     "text": [
      "(11916, 2) (1324, 2) (11916,) (1324,)\n",
      "              precision    recall  f1-score   support\n",
      "\n",
      "           0       0.78      0.91      0.84       884\n",
      "           1       0.73      0.47      0.58       440\n",
      "\n",
      "    accuracy                           0.77      1324\n",
      "   macro avg       0.76      0.69      0.71      1324\n",
      "weighted avg       0.76      0.77      0.75      1324\n",
      "\n"
     ]
    },
    {
     "data": {
      "text/html": [
       "<div>\n",
       "<style scoped>\n",
       "    .dataframe tbody tr th:only-of-type {\n",
       "        vertical-align: middle;\n",
       "    }\n",
       "\n",
       "    .dataframe tbody tr th {\n",
       "        vertical-align: top;\n",
       "    }\n",
       "\n",
       "    .dataframe thead th {\n",
       "        text-align: right;\n",
       "    }\n",
       "</style>\n",
       "<table border=\"1\" class=\"dataframe\">\n",
       "  <thead>\n",
       "    <tr style=\"text-align: right;\">\n",
       "      <th></th>\n",
       "      <th>888</th>\n",
       "      <th>756</th>\n",
       "      <th>1164</th>\n",
       "      <th>554</th>\n",
       "      <th>1055</th>\n",
       "      <th>859</th>\n",
       "      <th>1205</th>\n",
       "      <th>1283</th>\n",
       "      <th>774</th>\n",
       "      <th>413</th>\n",
       "      <th>1106</th>\n",
       "      <th>344</th>\n",
       "      <th>390</th>\n",
       "      <th>680</th>\n",
       "      <th>233</th>\n",
       "      <th>1261</th>\n",
       "      <th>651</th>\n",
       "      <th>303</th>\n",
       "    </tr>\n",
       "  </thead>\n",
       "  <tbody>\n",
       "    <tr>\n",
       "      <th>true</th>\n",
       "      <td>1</td>\n",
       "      <td>1</td>\n",
       "      <td>0</td>\n",
       "      <td>0</td>\n",
       "      <td>1</td>\n",
       "      <td>0</td>\n",
       "      <td>1</td>\n",
       "      <td>0</td>\n",
       "      <td>1</td>\n",
       "      <td>1</td>\n",
       "      <td>0</td>\n",
       "      <td>0</td>\n",
       "      <td>1</td>\n",
       "      <td>0</td>\n",
       "      <td>1</td>\n",
       "      <td>0</td>\n",
       "      <td>0</td>\n",
       "      <td>0</td>\n",
       "    </tr>\n",
       "    <tr>\n",
       "      <th>pred</th>\n",
       "      <td>0</td>\n",
       "      <td>1</td>\n",
       "      <td>0</td>\n",
       "      <td>0</td>\n",
       "      <td>1</td>\n",
       "      <td>0</td>\n",
       "      <td>1</td>\n",
       "      <td>0</td>\n",
       "      <td>1</td>\n",
       "      <td>0</td>\n",
       "      <td>0</td>\n",
       "      <td>0</td>\n",
       "      <td>1</td>\n",
       "      <td>0</td>\n",
       "      <td>1</td>\n",
       "      <td>0</td>\n",
       "      <td>0</td>\n",
       "      <td>0</td>\n",
       "    </tr>\n",
       "  </tbody>\n",
       "</table>\n",
       "</div>"
      ],
      "text/plain": [
       "      888   756   1164  554   1055  859   1205  1283  774   413   1106  344   \\\n",
       "true     1     1     0     0     1     0     1     0     1     1     0     0   \n",
       "pred     0     1     0     0     1     0     1     0     1     0     0     0   \n",
       "\n",
       "      390   680   233   1261  651   303   \n",
       "true     1     0     1     0     0     0  \n",
       "pred     1     0     1     0     0     0  "
      ]
     },
     "execution_count": 8,
     "metadata": {},
     "output_type": "execute_result"
    },
    {
     "data": {
      "image/png": "[encoded data removed]",
      "text/plain": [
       "<Figure size 720x720 with 2 Axes>"
      ]
     },
     "metadata": {},
     "output_type": "display_data"
    }
   ],
   "source": [
    "## SGD classifier with tf-idf weighted BoW\n",
    "X = df.drop(columns=['id', 'label', 'target'])\n",
    "y = df.target\n",
    "\n",
    "# Split data into training, dev and test sets\n",
    "from sklearn.model_selection import train_test_split\n",
    "X_train, X_val, y_train, y_val = train_test_split(X, y, test_size=.10, stratify=y, random_state=42)\n",
    "print(X_train.shape, X_val.shape, y_train.shape, y_val.shape)\n",
    "\n",
    "tfidf_vect = TfidfVectorizer(max_features=5000, ngram_range=(1,2), tokenizer= str.split)\n",
    "\n",
    "# We distribute the different columns to different preprocessing steps\n",
    "preprocessor = make_column_transformer(\n",
    "     (tfidf_vect, 'clean'),\n",
    "    remainder = 'drop')\n",
    "\n",
    "# we use an SGDClassifier\n",
    "clf = SGDClassifier(random_state=42)\n",
    "\n",
    "pipe = make_pipeline(preprocessor, clf)\n",
    "\n",
    "pipe.fit(X_train, y_train)\n",
    "y_val_pred = pipe.predict(X_val)\n",
    "\n",
    "print(classification_report(y_val, y_val_pred))\n",
    "\n",
    "cm = confusion_matrix(y_val, y_val_pred, labels=pipe.classes_)\n",
    "disp = ConfusionMatrixDisplay(confusion_matrix=cm, display_labels=pipe.classes_)\n",
    "\n",
    "fig, ax = plt.subplots(figsize=(10,10))\n",
    "disp.plot(ax=ax);\n",
    "\n",
    "truth = np.array(y_val)\n",
    "preds = np.array(y_val_pred)\n",
    "comps = pd.DataFrame({'true': truth, 'pred': list(preds)}, columns=['true', 'pred'])\n",
    "comps.sample(18).T"
   ]
  },
  {
   "cell_type": "code",
   "execution_count": 9,
   "id": "219baaf4",
   "metadata": {
    "scrolled": false
   },
   "outputs": [
    {
     "name": "stdout",
     "output_type": "stream",
     "text": [
      "              precision    recall  f1-score   support\n",
      "\n",
      "           0       0.78      0.91      0.84       884\n",
      "           1       0.73      0.47      0.58       440\n",
      "\n",
      "    accuracy                           0.77      1324\n",
      "   macro avg       0.76      0.69      0.71      1324\n",
      "weighted avg       0.76      0.77      0.75      1324\n",
      "\n"
     ]
    },
    {
     "data": {
      "image/png": "[encoded data removed]",
      "text/plain": [
       "<Figure size 864x360 with 2 Axes>"
      ]
     },
     "metadata": {},
     "output_type": "display_data"
    }
   ],
   "source": [
    "print(classification_report(y_val, y_val_pred))\n",
    "\n",
    "cm = confusion_matrix(y_val, y_val_pred)\n",
    "\n",
    "group_names = ['True Neg','False Pos','False Neg','True Pos']\n",
    "\n",
    "group_counts = [\"{0:0.0f}\".format(value) for value in\n",
    "                cm.flatten()]\n",
    "\n",
    "group_percentages = [\"{0:.2%}\".format(value) for value in\n",
    "                     cm.flatten()/np.sum(cm)]\n",
    "\n",
    "labels = [f\"{v1}\\n{v2}\\n{v3}\" for v1, v2, v3 in\n",
    "          zip(group_names,group_counts,group_percentages)]\n",
    "\n",
    "labels = np.asarray(labels).reshape(2,2)\n",
    "\n",
    "ax = sns.heatmap(cm, annot=labels, fmt='', cmap='Blues')\n",
    "\n",
    "ax.set_title('SGD Classifier Baseline on 10% Validation Set (no features) Confusion Matrix \\n\\n');\n",
    "ax.set_xlabel('\\nPredicted Label')\n",
    "ax.set_ylabel('True Label');\n",
    "\n",
    "## Ticket labels - List must be in alphabetical order\n",
    "ax.xaxis.set_ticklabels(['NOT','OFF'])\n",
    "ax.yaxis.set_ticklabels(['NOT','OFF'])\n",
    "\n",
    "plt.savefig('SGDC_baseline_on_validation.png', bbox_inches=\"tight\")\n",
    "\n",
    "## Display the visualization of the Confusion Matrix.\n",
    "plt.show();"
   ]
  },
  {
   "cell_type": "code",
   "execution_count": 10,
   "id": "b591250a",
   "metadata": {
    "scrolled": false
   },
   "outputs": [
    {
     "data": {
      "text/plain": [
       "{'alpha': 0.0001,\n",
       " 'average': False,\n",
       " 'class_weight': None,\n",
       " 'early_stopping': False,\n",
       " 'epsilon': 0.1,\n",
       " 'eta0': 0.0,\n",
       " 'fit_intercept': True,\n",
       " 'l1_ratio': 0.15,\n",
       " 'learning_rate': 'optimal',\n",
       " 'loss': 'hinge',\n",
       " 'max_iter': 1000,\n",
       " 'n_iter_no_change': 5,\n",
       " 'n_jobs': None,\n",
       " 'penalty': 'l2',\n",
       " 'power_t': 0.5,\n",
       " 'random_state': 42,\n",
       " 'shuffle': True,\n",
       " 'tol': 0.001,\n",
       " 'validation_fraction': 0.1,\n",
       " 'verbose': 0,\n",
       " 'warm_start': False}"
      ]
     },
     "execution_count": 10,
     "metadata": {},
     "output_type": "execute_result"
    }
   ],
   "source": [
    "clf.get_params()"
   ]
  },
  {
   "cell_type": "markdown",
   "id": "ff0d054b",
   "metadata": {},
   "source": [
    "## Feature extraction/engineering (based on *unprocessed* text data)"
   ]
  },
  {
   "cell_type": "markdown",
   "id": "fb781b12",
   "metadata": {},
   "source": [
    "### VADER sentiment"
   ]
  },
  {
   "cell_type": "code",
   "execution_count": 11,
   "id": "9983c00c",
   "metadata": {},
   "outputs": [
    {
     "name": "stderr",
     "output_type": "stream",
     "text": [
      "[nltk_data] Downloading package vader_lexicon to\n",
      "[nltk_data]     /Users/Aron/nltk_data...\n",
      "[nltk_data]   Package vader_lexicon is already up-to-date!\n"
     ]
    },
    {
     "data": {
      "text/html": [
       "<div>\n",
       "<style scoped>\n",
       "    .dataframe tbody tr th:only-of-type {\n",
       "        vertical-align: middle;\n",
       "    }\n",
       "\n",
       "    .dataframe tbody tr th {\n",
       "        vertical-align: top;\n",
       "    }\n",
       "\n",
       "    .dataframe thead th {\n",
       "        text-align: right;\n",
       "    }\n",
       "</style>\n",
       "<table border=\"1\" class=\"dataframe\">\n",
       "  <thead>\n",
       "    <tr style=\"text-align: right;\">\n",
       "      <th></th>\n",
       "      <th>id</th>\n",
       "      <th>text</th>\n",
       "      <th>label</th>\n",
       "      <th>target</th>\n",
       "      <th>clean</th>\n",
       "      <th>compound</th>\n",
       "      <th>neg</th>\n",
       "      <th>neu</th>\n",
       "      <th>pos</th>\n",
       "    </tr>\n",
       "  </thead>\n",
       "  <tbody>\n",
       "    <tr>\n",
       "      <th>0</th>\n",
       "      <td>86426</td>\n",
       "      <td>@USER She should ask a few native Americans wh...</td>\n",
       "      <td>OFF</td>\n",
       "      <td>1</td>\n",
       "      <td>user ask native american take</td>\n",
       "      <td>0.0000</td>\n",
       "      <td>0.000</td>\n",
       "      <td>1.000</td>\n",
       "      <td>0.00</td>\n",
       "    </tr>\n",
       "    <tr>\n",
       "      <th>1</th>\n",
       "      <td>90194</td>\n",
       "      <td>@USER @USER Go home you’re drunk!!! @USER #MAG...</td>\n",
       "      <td>OFF</td>\n",
       "      <td>1</td>\n",
       "      <td>user user go home drunk user maga trump url</td>\n",
       "      <td>-0.5067</td>\n",
       "      <td>0.247</td>\n",
       "      <td>0.753</td>\n",
       "      <td>0.00</td>\n",
       "    </tr>\n",
       "    <tr>\n",
       "      <th>2</th>\n",
       "      <td>16820</td>\n",
       "      <td>Amazon is investigating Chinese employees who ...</td>\n",
       "      <td>NOT</td>\n",
       "      <td>0</td>\n",
       "      <td>amazon investigating chinese employee selling ...</td>\n",
       "      <td>0.3400</td>\n",
       "      <td>0.000</td>\n",
       "      <td>0.880</td>\n",
       "      <td>0.12</td>\n",
       "    </tr>\n",
       "    <tr>\n",
       "      <th>3</th>\n",
       "      <td>62688</td>\n",
       "      <td>@USER Someone should'veTaken\" this piece of sh...</td>\n",
       "      <td>OFF</td>\n",
       "      <td>1</td>\n",
       "      <td>user someone vetaken piece shit volcano</td>\n",
       "      <td>-0.5574</td>\n",
       "      <td>0.286</td>\n",
       "      <td>0.714</td>\n",
       "      <td>0.00</td>\n",
       "    </tr>\n",
       "    <tr>\n",
       "      <th>4</th>\n",
       "      <td>43605</td>\n",
       "      <td>@USER @USER Obama wanted liberals &amp;amp; illega...</td>\n",
       "      <td>NOT</td>\n",
       "      <td>0</td>\n",
       "      <td>user user obama wanted liberal amp illegals mo...</td>\n",
       "      <td>0.0000</td>\n",
       "      <td>0.000</td>\n",
       "      <td>1.000</td>\n",
       "      <td>0.00</td>\n",
       "    </tr>\n",
       "  </tbody>\n",
       "</table>\n",
       "</div>"
      ],
      "text/plain": [
       "      id                                               text label  target  \\\n",
       "0  86426  @USER She should ask a few native Americans wh...   OFF       1   \n",
       "1  90194  @USER @USER Go home you’re drunk!!! @USER #MAG...   OFF       1   \n",
       "2  16820  Amazon is investigating Chinese employees who ...   NOT       0   \n",
       "3  62688  @USER Someone should'veTaken\" this piece of sh...   OFF       1   \n",
       "4  43605  @USER @USER Obama wanted liberals &amp; illega...   NOT       0   \n",
       "\n",
       "                                               clean  compound    neg    neu  \\\n",
       "0                      user ask native american take    0.0000  0.000  1.000   \n",
       "1        user user go home drunk user maga trump url   -0.5067  0.247  0.753   \n",
       "2  amazon investigating chinese employee selling ...    0.3400  0.000  0.880   \n",
       "3            user someone vetaken piece shit volcano   -0.5574  0.286  0.714   \n",
       "4  user user obama wanted liberal amp illegals mo...    0.0000  0.000  1.000   \n",
       "\n",
       "    pos  \n",
       "0  0.00  \n",
       "1  0.00  \n",
       "2  0.12  \n",
       "3  0.00  \n",
       "4  0.00  "
      ]
     },
     "execution_count": 11,
     "metadata": {},
     "output_type": "execute_result"
    }
   ],
   "source": [
    "import nltk\n",
    "nltk.download(['vader_lexicon'])\n",
    "from nltk.sentiment import SentimentIntensityAnalyzer\n",
    "\n",
    "analyzer = SentimentIntensityAnalyzer()\n",
    "df['compound'] = [analyzer.polarity_scores(x)['compound'] for x in df['text']]\n",
    "df['neg'] = [analyzer.polarity_scores(x)['neg'] for x in df['text']]\n",
    "df['neu'] = [analyzer.polarity_scores(x)['neu'] for x in df['text']]\n",
    "df['pos'] = [analyzer.polarity_scores(x)['pos'] for x in df['text']]\n",
    "df.head()"
   ]
  },
  {
   "cell_type": "markdown",
   "id": "8f7c1a78",
   "metadata": {},
   "source": [
    "### Profanity"
   ]
  },
  {
   "cell_type": "code",
   "execution_count": 12,
   "id": "1a554afb",
   "metadata": {},
   "outputs": [],
   "source": [
    "#!pip install alt-profanity-check\n",
    "#!pip install sklearn --upgrade"
   ]
  },
  {
   "cell_type": "code",
   "execution_count": 13,
   "id": "2200e7ed",
   "metadata": {
    "scrolled": true
   },
   "outputs": [
    {
     "name": "stderr",
     "output_type": "stream",
     "text": [
      "/opt/anaconda3/lib/python3.8/site-packages/sklearn/base.py:329: UserWarning: Trying to unpickle estimator TfidfTransformer from version 1.0.1 when using version 1.0.2. This might lead to breaking code or invalid results. Use at your own risk. For more info please refer to:\n",
      "https://scikit-learn.org/stable/modules/model_persistence.html#security-maintainability-limitations\n",
      "  warnings.warn(\n",
      "/opt/anaconda3/lib/python3.8/site-packages/sklearn/base.py:329: UserWarning: Trying to unpickle estimator TfidfVectorizer from version 1.0.1 when using version 1.0.2. This might lead to breaking code or invalid results. Use at your own risk. For more info please refer to:\n",
      "https://scikit-learn.org/stable/modules/model_persistence.html#security-maintainability-limitations\n",
      "  warnings.warn(\n",
      "/opt/anaconda3/lib/python3.8/site-packages/sklearn/base.py:329: UserWarning: Trying to unpickle estimator LinearSVC from version 1.0.1 when using version 1.0.2. This might lead to breaking code or invalid results. Use at your own risk. For more info please refer to:\n",
      "https://scikit-learn.org/stable/modules/model_persistence.html#security-maintainability-limitations\n",
      "  warnings.warn(\n",
      "/opt/anaconda3/lib/python3.8/site-packages/sklearn/base.py:329: UserWarning: Trying to unpickle estimator _SigmoidCalibration from version 1.0.1 when using version 1.0.2. This might lead to breaking code or invalid results. Use at your own risk. For more info please refer to:\n",
      "https://scikit-learn.org/stable/modules/model_persistence.html#security-maintainability-limitations\n",
      "  warnings.warn(\n",
      "/opt/anaconda3/lib/python3.8/site-packages/sklearn/base.py:329: UserWarning: Trying to unpickle estimator CalibratedClassifierCV from version 1.0.1 when using version 1.0.2. This might lead to breaking code or invalid results. Use at your own risk. For more info please refer to:\n",
      "https://scikit-learn.org/stable/modules/model_persistence.html#security-maintainability-limitations\n",
      "  warnings.warn(\n"
     ]
    }
   ],
   "source": [
    "from profanity_check import predict, predict_prob\n",
    "\n",
    "df['prof'] = predict(df['text'])\n",
    "df['prof_prob'] = predict_prob(df['text'])"
   ]
  },
  {
   "cell_type": "code",
   "execution_count": 14,
   "id": "c0a3f53c",
   "metadata": {},
   "outputs": [
    {
     "data": {
      "text/html": [
       "<div>\n",
       "<style scoped>\n",
       "    .dataframe tbody tr th:only-of-type {\n",
       "        vertical-align: middle;\n",
       "    }\n",
       "\n",
       "    .dataframe tbody tr th {\n",
       "        vertical-align: top;\n",
       "    }\n",
       "\n",
       "    .dataframe thead th {\n",
       "        text-align: right;\n",
       "    }\n",
       "</style>\n",
       "<table border=\"1\" class=\"dataframe\">\n",
       "  <thead>\n",
       "    <tr style=\"text-align: right;\">\n",
       "      <th></th>\n",
       "      <th>id</th>\n",
       "      <th>text</th>\n",
       "      <th>label</th>\n",
       "      <th>target</th>\n",
       "      <th>clean</th>\n",
       "      <th>compound</th>\n",
       "      <th>neg</th>\n",
       "      <th>neu</th>\n",
       "      <th>pos</th>\n",
       "      <th>prof</th>\n",
       "      <th>prof_prob</th>\n",
       "    </tr>\n",
       "  </thead>\n",
       "  <tbody>\n",
       "    <tr>\n",
       "      <th>0</th>\n",
       "      <td>86426</td>\n",
       "      <td>@USER She should ask a few native Americans wh...</td>\n",
       "      <td>OFF</td>\n",
       "      <td>1</td>\n",
       "      <td>user ask native american take</td>\n",
       "      <td>0.0000</td>\n",
       "      <td>0.000</td>\n",
       "      <td>1.000</td>\n",
       "      <td>0.00</td>\n",
       "      <td>0</td>\n",
       "      <td>0.044216</td>\n",
       "    </tr>\n",
       "    <tr>\n",
       "      <th>1</th>\n",
       "      <td>90194</td>\n",
       "      <td>@USER @USER Go home you’re drunk!!! @USER #MAG...</td>\n",
       "      <td>OFF</td>\n",
       "      <td>1</td>\n",
       "      <td>user user go home drunk user maga trump url</td>\n",
       "      <td>-0.5067</td>\n",
       "      <td>0.247</td>\n",
       "      <td>0.753</td>\n",
       "      <td>0.00</td>\n",
       "      <td>0</td>\n",
       "      <td>0.062316</td>\n",
       "    </tr>\n",
       "    <tr>\n",
       "      <th>2</th>\n",
       "      <td>16820</td>\n",
       "      <td>Amazon is investigating Chinese employees who ...</td>\n",
       "      <td>NOT</td>\n",
       "      <td>0</td>\n",
       "      <td>amazon investigating chinese employee selling ...</td>\n",
       "      <td>0.3400</td>\n",
       "      <td>0.000</td>\n",
       "      <td>0.880</td>\n",
       "      <td>0.12</td>\n",
       "      <td>0</td>\n",
       "      <td>0.098105</td>\n",
       "    </tr>\n",
       "    <tr>\n",
       "      <th>3</th>\n",
       "      <td>62688</td>\n",
       "      <td>@USER Someone should'veTaken\" this piece of sh...</td>\n",
       "      <td>OFF</td>\n",
       "      <td>1</td>\n",
       "      <td>user someone vetaken piece shit volcano</td>\n",
       "      <td>-0.5574</td>\n",
       "      <td>0.286</td>\n",
       "      <td>0.714</td>\n",
       "      <td>0.00</td>\n",
       "      <td>1</td>\n",
       "      <td>0.982132</td>\n",
       "    </tr>\n",
       "    <tr>\n",
       "      <th>4</th>\n",
       "      <td>43605</td>\n",
       "      <td>@USER @USER Obama wanted liberals &amp;amp; illega...</td>\n",
       "      <td>NOT</td>\n",
       "      <td>0</td>\n",
       "      <td>user user obama wanted liberal amp illegals mo...</td>\n",
       "      <td>0.0000</td>\n",
       "      <td>0.000</td>\n",
       "      <td>1.000</td>\n",
       "      <td>0.00</td>\n",
       "      <td>0</td>\n",
       "      <td>0.140452</td>\n",
       "    </tr>\n",
       "  </tbody>\n",
       "</table>\n",
       "</div>"
      ],
      "text/plain": [
       "      id                                               text label  target  \\\n",
       "0  86426  @USER She should ask a few native Americans wh...   OFF       1   \n",
       "1  90194  @USER @USER Go home you’re drunk!!! @USER #MAG...   OFF       1   \n",
       "2  16820  Amazon is investigating Chinese employees who ...   NOT       0   \n",
       "3  62688  @USER Someone should'veTaken\" this piece of sh...   OFF       1   \n",
       "4  43605  @USER @USER Obama wanted liberals &amp; illega...   NOT       0   \n",
       "\n",
       "                                               clean  compound    neg    neu  \\\n",
       "0                      user ask native american take    0.0000  0.000  1.000   \n",
       "1        user user go home drunk user maga trump url   -0.5067  0.247  0.753   \n",
       "2  amazon investigating chinese employee selling ...    0.3400  0.000  0.880   \n",
       "3            user someone vetaken piece shit volcano   -0.5574  0.286  0.714   \n",
       "4  user user obama wanted liberal amp illegals mo...    0.0000  0.000  1.000   \n",
       "\n",
       "    pos  prof  prof_prob  \n",
       "0  0.00     0   0.044216  \n",
       "1  0.00     0   0.062316  \n",
       "2  0.12     0   0.098105  \n",
       "3  0.00     1   0.982132  \n",
       "4  0.00     0   0.140452  "
      ]
     },
     "execution_count": 14,
     "metadata": {},
     "output_type": "execute_result"
    }
   ],
   "source": [
    "df.head()"
   ]
  },
  {
   "cell_type": "code",
   "execution_count": 15,
   "id": "248eb7c7",
   "metadata": {},
   "outputs": [
    {
     "data": {
      "text/plain": [
       "'@USER @USER Go home you’re drunk!!! @USER #MAGA #Trump2020 👊🇺🇸👊 URL'"
      ]
     },
     "execution_count": 15,
     "metadata": {},
     "output_type": "execute_result"
    }
   ],
   "source": [
    "# Pre-preprocessing:\n",
    "df.text[1]"
   ]
  },
  {
   "cell_type": "code",
   "execution_count": 16,
   "id": "e9ced291",
   "metadata": {},
   "outputs": [
    {
     "data": {
      "text/plain": [
       "'user user go home drunk user maga trump url'"
      ]
     },
     "execution_count": 16,
     "metadata": {},
     "output_type": "execute_result"
    }
   ],
   "source": [
    "# Post-preprocessing:\n",
    "df.clean[1]"
   ]
  },
  {
   "cell_type": "markdown",
   "id": "82a2d434",
   "metadata": {},
   "source": [
    "## Experiments and model comparison (to find the best traditional model for fine-tuning)"
   ]
  },
  {
   "cell_type": "code",
   "execution_count": 17,
   "id": "87b06a95",
   "metadata": {},
   "outputs": [
    {
     "name": "stdout",
     "output_type": "stream",
     "text": [
      "(11916, 8) (1324, 8) (11916,) (1324,)\n",
      "              precision    recall  f1-score   support\n",
      "\n",
      "           0       0.83      0.82      0.82       884\n",
      "           1       0.64      0.65      0.65       440\n",
      "\n",
      "    accuracy                           0.77      1324\n",
      "   macro avg       0.74      0.74      0.74      1324\n",
      "weighted avg       0.77      0.77      0.77      1324\n",
      "\n"
     ]
    },
    {
     "data": {
      "text/html": [
       "<div>\n",
       "<style scoped>\n",
       "    .dataframe tbody tr th:only-of-type {\n",
       "        vertical-align: middle;\n",
       "    }\n",
       "\n",
       "    .dataframe tbody tr th {\n",
       "        vertical-align: top;\n",
       "    }\n",
       "\n",
       "    .dataframe thead th {\n",
       "        text-align: right;\n",
       "    }\n",
       "</style>\n",
       "<table border=\"1\" class=\"dataframe\">\n",
       "  <thead>\n",
       "    <tr style=\"text-align: right;\">\n",
       "      <th></th>\n",
       "      <th>850</th>\n",
       "      <th>1212</th>\n",
       "      <th>468</th>\n",
       "      <th>589</th>\n",
       "      <th>1238</th>\n",
       "      <th>1278</th>\n",
       "      <th>807</th>\n",
       "      <th>188</th>\n",
       "      <th>900</th>\n",
       "      <th>356</th>\n",
       "      <th>1251</th>\n",
       "      <th>547</th>\n",
       "      <th>235</th>\n",
       "      <th>1083</th>\n",
       "      <th>474</th>\n",
       "      <th>1081</th>\n",
       "      <th>743</th>\n",
       "      <th>1048</th>\n",
       "    </tr>\n",
       "  </thead>\n",
       "  <tbody>\n",
       "    <tr>\n",
       "      <th>true</th>\n",
       "      <td>1</td>\n",
       "      <td>0</td>\n",
       "      <td>0</td>\n",
       "      <td>1</td>\n",
       "      <td>1</td>\n",
       "      <td>1</td>\n",
       "      <td>0</td>\n",
       "      <td>0</td>\n",
       "      <td>0</td>\n",
       "      <td>0</td>\n",
       "      <td>1</td>\n",
       "      <td>0</td>\n",
       "      <td>1</td>\n",
       "      <td>1</td>\n",
       "      <td>0</td>\n",
       "      <td>1</td>\n",
       "      <td>0</td>\n",
       "      <td>1</td>\n",
       "    </tr>\n",
       "    <tr>\n",
       "      <th>pred</th>\n",
       "      <td>1</td>\n",
       "      <td>1</td>\n",
       "      <td>0</td>\n",
       "      <td>0</td>\n",
       "      <td>0</td>\n",
       "      <td>1</td>\n",
       "      <td>0</td>\n",
       "      <td>0</td>\n",
       "      <td>0</td>\n",
       "      <td>0</td>\n",
       "      <td>1</td>\n",
       "      <td>0</td>\n",
       "      <td>1</td>\n",
       "      <td>1</td>\n",
       "      <td>1</td>\n",
       "      <td>0</td>\n",
       "      <td>0</td>\n",
       "      <td>1</td>\n",
       "    </tr>\n",
       "  </tbody>\n",
       "</table>\n",
       "</div>"
      ],
      "text/plain": [
       "      850   1212  468   589   1238  1278  807   188   900   356   1251  547   \\\n",
       "true     1     0     0     1     1     1     0     0     0     0     1     0   \n",
       "pred     1     1     0     0     0     1     0     0     0     0     1     0   \n",
       "\n",
       "      235   1083  474   1081  743   1048  \n",
       "true     1     1     0     1     0     1  \n",
       "pred     1     1     1     0     0     1  "
      ]
     },
     "execution_count": 17,
     "metadata": {},
     "output_type": "execute_result"
    },
    {
     "data": {
      "image/png": "[encoded data removed]",
      "text/plain": [
       "<Figure size 720x720 with 2 Axes>"
      ]
     },
     "metadata": {},
     "output_type": "display_data"
    }
   ],
   "source": [
    "X = df.drop(columns=['id', 'label', 'target'])\n",
    "y = df.target\n",
    "\n",
    "# Split data into training, dev and test sets\n",
    "X_train, X_val, y_train, y_val = train_test_split(X, y, test_size=.10, stratify=y, random_state=42)\n",
    "print(X_train.shape, X_val.shape, y_train.shape, y_val.shape)\n",
    "\n",
    "scaler = StandardScaler()\n",
    "\n",
    "tfidf_vect = TfidfVectorizer(ngram_range=(1, 2), stop_words='english')\n",
    "#tfidf_char = TfidfVectorizer(ngram_range=(2, 2), analyzer='char', stop_words='english')\n",
    "#count_vect = CountVectorizer(ngram_range=(1, 3), stop_words='english')\n",
    "\n",
    "# We distribute the different columns to different preprocessing steps\n",
    "preprocessor = make_column_transformer(\n",
    "     (scaler, ['compound', 'neg', 'neu', 'pos']), # APPLYING FEATURE EXTRACTION BEFORE CLEANING GIVES +1 macro-F1!!!\n",
    "     (scaler, ['prof', 'prof_prob']),             # APPLYING FEATURE EXTRACTION BEFORE CLEANING GIVES +1 macro-F1!!!\n",
    "     (tfidf_vect, 'clean'),\n",
    "#     (tfidf_char, 'clean'), # decent results IF lemmatization disabled; otherwise, better left out (cf. count_vect)\n",
    "    remainder = 'drop')\n",
    "\n",
    "\n",
    "# We use an SGDClassifier\n",
    "clf = SGDClassifier(random_state=42, class_weight='balanced')\n",
    "\n",
    "pipe = make_pipeline(preprocessor, clf)\n",
    "\n",
    "pipe.fit(X_train, y_train)\n",
    "y_val_pred = pipe.predict(X_val)\n",
    "\n",
    "print(classification_report(y_val, y_val_pred))\n",
    "\n",
    "cm = confusion_matrix(y_val, y_val_pred, labels=pipe.classes_)\n",
    "disp = ConfusionMatrixDisplay(confusion_matrix=cm, display_labels=pipe.classes_)\n",
    "\n",
    "fig, ax = plt.subplots(figsize=(10,10))\n",
    "disp.plot(ax=ax);\n",
    "\n",
    "truth = np.array(y_val)\n",
    "preds = np.array(y_val_pred)\n",
    "comps = pd.DataFrame({'true': truth, 'pred': list(preds)}, columns=['true', 'pred'])\n",
    "comps.sample(18).T"
   ]
  },
  {
   "cell_type": "markdown",
   "id": "dbb8a15f",
   "metadata": {},
   "source": [
    "#### 10-fold cross-validation with macro F1-score as scoring metric (on all training data)"
   ]
  },
  {
   "cell_type": "code",
   "execution_count": 18,
   "id": "9467cb6d",
   "metadata": {
    "scrolled": true
   },
   "outputs": [
    {
     "name": "stdout",
     "output_type": "stream",
     "text": [
      "[0.71790144 0.75520474 0.75325111 0.74511267 0.72837987 0.74847095\n",
      " 0.76934799 0.74735292 0.75580213 0.7443438 ]\n",
      "\n",
      "\n",
      "Mean 0.7465167613968233, Std 0.013737940564124085\n"
     ]
    }
   ],
   "source": [
    "from sklearn.model_selection import cross_val_score\n",
    "\n",
    "scores = cross_val_score(pipe, X, y, cv=10, scoring='f1_macro')\n",
    "# 'f1_macro' for binary classification gives f1 for positive class\n",
    "print(scores)\n",
    "print('\\n')\n",
    "print(f\"Mean {scores.mean()}, Std {scores.std()}\")\n",
    "\n",
    "# returns average macro-f1 score over 10 folds (no control over stratification, etc.) -> stratified k-fold = better\n",
    "# consistent scores with small standard deviations indicate that the model is not overfitting on the train data ..."
   ]
  },
  {
   "cell_type": "markdown",
   "id": "8a170bd1",
   "metadata": {},
   "source": [
    "#### First attempt at hyper-parameter optimization using GridSearch"
   ]
  },
  {
   "cell_type": "code",
   "execution_count": 19,
   "id": "e134179a",
   "metadata": {},
   "outputs": [
    {
     "data": {
      "text/plain": [
       "{'columntransformer': ColumnTransformer(transformers=[('standardscaler-1', StandardScaler(),\n",
       "                                  ['compound', 'neg', 'neu', 'pos']),\n",
       "                                 ('standardscaler-2', StandardScaler(),\n",
       "                                  ['prof', 'prof_prob']),\n",
       "                                 ('tfidfvectorizer',\n",
       "                                  TfidfVectorizer(ngram_range=(1, 2),\n",
       "                                                  stop_words='english'),\n",
       "                                  'clean')]),\n",
       " 'sgdclassifier': SGDClassifier(class_weight='balanced', random_state=42)}"
      ]
     },
     "execution_count": 19,
     "metadata": {},
     "output_type": "execute_result"
    }
   ],
   "source": [
    "pipe.named_steps"
   ]
  },
  {
   "cell_type": "code",
   "execution_count": 20,
   "id": "3529052b",
   "metadata": {},
   "outputs": [
    {
     "name": "stdout",
     "output_type": "stream",
     "text": [
      "Fitting 5 folds for each of 14 candidates, totalling 70 fits\n"
     ]
    },
    {
     "data": {
      "text/plain": [
       "GridSearchCV(cv=5,\n",
       "             estimator=Pipeline(steps=[('columntransformer',\n",
       "                                        ColumnTransformer(transformers=[('standardscaler-1',\n",
       "                                                                         StandardScaler(),\n",
       "                                                                         ['compound',\n",
       "                                                                          'neg',\n",
       "                                                                          'neu',\n",
       "                                                                          'pos']),\n",
       "                                                                        ('standardscaler-2',\n",
       "                                                                         StandardScaler(),\n",
       "                                                                         ['prof',\n",
       "                                                                          'prof_prob']),\n",
       "                                                                        ('tfidfvectorizer',\n",
       "                                                                         TfidfVectorizer(ngram_range=(1,\n",
       "                                                                                                      2),\n",
       "                                                                                         stop_words='english'),\n",
       "                                                                         'clean')])),\n",
       "                                       ('sgdclassifier',\n",
       "                                        SGDClassifier(class_weight='balanced',\n",
       "                                                      random_state=42))]),\n",
       "             n_jobs=-1,\n",
       "             param_grid=[{'columntransformer__tfidfvectorizer__ngram_range': [(1,\n",
       "                                                                               1),\n",
       "                                                                              (1,\n",
       "                                                                               2),\n",
       "                                                                              (2,\n",
       "                                                                               2),\n",
       "                                                                              (1,\n",
       "                                                                               3),\n",
       "                                                                              (1,\n",
       "                                                                               4),\n",
       "                                                                              (1,\n",
       "                                                                               6),\n",
       "                                                                              (2,\n",
       "                                                                               7)],\n",
       "                          'sgdclassifier__loss': ['hinge', 'log']}],\n",
       "             scoring='f1_macro', verbose=1)"
      ]
     },
     "execution_count": 20,
     "metadata": {},
     "output_type": "execute_result"
    }
   ],
   "source": [
    "params = [{\n",
    "    'columntransformer__tfidfvectorizer__ngram_range': [(1, 1), (1, 2), (2, 2), (1, 3), (1, 4), (1, 6), (2, 7)],\n",
    "    'sgdclassifier__loss': ['hinge', 'log'] # with hinge it's an svm, with log it's logistic regression\n",
    "    }]\n",
    "\n",
    "gs = GridSearchCV(pipe, params, n_jobs=-1, cv=5, verbose=1, scoring='f1_macro')\n",
    "gs.fit(X, y)\n",
    "\n",
    "# F1 = harmonic mean of precision and recall; macro = average thereof\n",
    "# Note: in binary classification this only apllies to positive the class"
   ]
  },
  {
   "cell_type": "code",
   "execution_count": 21,
   "id": "2a24bee6",
   "metadata": {},
   "outputs": [
    {
     "name": "stdout",
     "output_type": "stream",
     "text": [
      "0.7447264487549851\n",
      "{'columntransformer__tfidfvectorizer__ngram_range': (1, 4), 'sgdclassifier__loss': 'hinge'}\n"
     ]
    }
   ],
   "source": [
    "print(gs.best_score_)  # top score\n",
    "print(gs.best_params_) # best param settings -> GridSearch for hyper-parameter tuning once a model has been decided"
   ]
  },
  {
   "cell_type": "code",
   "execution_count": 22,
   "id": "0977f3c9",
   "metadata": {
    "scrolled": false
   },
   "outputs": [
    {
     "name": "stdout",
     "output_type": "stream",
     "text": [
      "(11916, 8) (1324, 8) (11916,) (1324,)\n",
      "              precision    recall  f1-score   support\n",
      "\n",
      "           0       0.82      0.82      0.82       884\n",
      "           1       0.64      0.65      0.64       440\n",
      "\n",
      "    accuracy                           0.76      1324\n",
      "   macro avg       0.73      0.73      0.73      1324\n",
      "weighted avg       0.76      0.76      0.76      1324\n",
      "\n"
     ]
    },
    {
     "data": {
      "text/html": [
       "<div>\n",
       "<style scoped>\n",
       "    .dataframe tbody tr th:only-of-type {\n",
       "        vertical-align: middle;\n",
       "    }\n",
       "\n",
       "    .dataframe tbody tr th {\n",
       "        vertical-align: top;\n",
       "    }\n",
       "\n",
       "    .dataframe thead th {\n",
       "        text-align: right;\n",
       "    }\n",
       "</style>\n",
       "<table border=\"1\" class=\"dataframe\">\n",
       "  <thead>\n",
       "    <tr style=\"text-align: right;\">\n",
       "      <th></th>\n",
       "      <th>157</th>\n",
       "      <th>1168</th>\n",
       "      <th>1188</th>\n",
       "      <th>1235</th>\n",
       "      <th>1</th>\n",
       "      <th>298</th>\n",
       "      <th>84</th>\n",
       "      <th>815</th>\n",
       "      <th>988</th>\n",
       "      <th>1219</th>\n",
       "      <th>698</th>\n",
       "      <th>1215</th>\n",
       "      <th>713</th>\n",
       "      <th>772</th>\n",
       "      <th>144</th>\n",
       "      <th>1157</th>\n",
       "      <th>308</th>\n",
       "      <th>184</th>\n",
       "    </tr>\n",
       "  </thead>\n",
       "  <tbody>\n",
       "    <tr>\n",
       "      <th>true</th>\n",
       "      <td>0</td>\n",
       "      <td>0</td>\n",
       "      <td>0</td>\n",
       "      <td>0</td>\n",
       "      <td>0</td>\n",
       "      <td>1</td>\n",
       "      <td>0</td>\n",
       "      <td>1</td>\n",
       "      <td>1</td>\n",
       "      <td>1</td>\n",
       "      <td>1</td>\n",
       "      <td>1</td>\n",
       "      <td>0</td>\n",
       "      <td>0</td>\n",
       "      <td>1</td>\n",
       "      <td>0</td>\n",
       "      <td>1</td>\n",
       "      <td>0</td>\n",
       "    </tr>\n",
       "    <tr>\n",
       "      <th>pred</th>\n",
       "      <td>0</td>\n",
       "      <td>0</td>\n",
       "      <td>0</td>\n",
       "      <td>1</td>\n",
       "      <td>0</td>\n",
       "      <td>1</td>\n",
       "      <td>0</td>\n",
       "      <td>1</td>\n",
       "      <td>1</td>\n",
       "      <td>1</td>\n",
       "      <td>1</td>\n",
       "      <td>1</td>\n",
       "      <td>0</td>\n",
       "      <td>0</td>\n",
       "      <td>1</td>\n",
       "      <td>0</td>\n",
       "      <td>1</td>\n",
       "      <td>1</td>\n",
       "    </tr>\n",
       "  </tbody>\n",
       "</table>\n",
       "</div>"
      ],
      "text/plain": [
       "      157   1168  1188  1235  1     298   84    815   988   1219  698   1215  \\\n",
       "true     0     0     0     0     0     1     0     1     1     1     1     1   \n",
       "pred     0     0     0     1     0     1     0     1     1     1     1     1   \n",
       "\n",
       "      713   772   144   1157  308   184   \n",
       "true     0     0     1     0     1     0  \n",
       "pred     0     0     1     0     1     1  "
      ]
     },
     "execution_count": 22,
     "metadata": {},
     "output_type": "execute_result"
    },
    {
     "data": {
      "image/png": "[encoded data removed]",
      "text/plain": [
       "<Figure size 720x720 with 2 Axes>"
      ]
     },
     "metadata": {},
     "output_type": "display_data"
    }
   ],
   "source": [
    "X = df.drop(columns=['id', 'label', 'target'])\n",
    "y = df.target\n",
    "\n",
    "# Split data into training, dev and test sets\n",
    "X_train, X_val, y_train, y_val = train_test_split(X, y, test_size=.10, stratify=y, random_state=42)\n",
    "print(X_train.shape, X_val.shape, y_train.shape, y_val.shape)\n",
    "\n",
    "scaler = StandardScaler()\n",
    "\n",
    "tfidf_vect = TfidfVectorizer(ngram_range=(1, 4), stop_words='english')\n",
    "#tfidf_char = TfidfVectorizer(ngram_range=(2, 2), analyzer='char', stop_words='english')\n",
    "#count_vect = CountVectorizer(ngram_range=(1, 3), stop_words='english')\n",
    "\n",
    "# We distribute the different columns to different preprocessing steps\n",
    "preprocessor = make_column_transformer(\n",
    "     (scaler, ['compound', 'neg', 'neu', 'pos']), # we scale numeric features\n",
    "     (scaler, ['prof', 'prof_prob']),\n",
    "     (tfidf_vect, 'clean'),\n",
    "#     (tfidf_char, 'clean'),\n",
    "    remainder = 'drop')\n",
    "\n",
    "\n",
    "# We use an SGDClassifier\n",
    "clf = SGDClassifier(random_state=42, class_weight='balanced', loss='hinge')\n",
    "\n",
    "pipe = make_pipeline(preprocessor, clf)\n",
    "\n",
    "pipe.fit(X_train, y_train)\n",
    "y_val_pred = pipe.predict(X_val)\n",
    "\n",
    "print(classification_report(y_val, y_val_pred))\n",
    "\n",
    "cm = confusion_matrix(y_val, y_val_pred, labels=pipe.classes_)\n",
    "disp = ConfusionMatrixDisplay(confusion_matrix=cm, display_labels=pipe.classes_)\n",
    "\n",
    "fig, ax = plt.subplots(figsize=(10,10))\n",
    "disp.plot(ax=ax);\n",
    "\n",
    "truth = np.array(y_val)\n",
    "preds = np.array(y_val_pred)\n",
    "comps = pd.DataFrame({'true': truth, 'pred': list(preds)}, columns=['true', 'pred'])\n",
    "comps.sample(18).T"
   ]
  },
  {
   "cell_type": "markdown",
   "id": "5a3f0f9b",
   "metadata": {},
   "source": [
    "#### Note decrease in model performance (macro F1) after using grid-searched hyperparameters."
   ]
  },
  {
   "cell_type": "markdown",
   "id": "97662ddd",
   "metadata": {},
   "source": [
    "### Comparison with some other traditional classifiers (with added features, but no k-fold CV or grid search)"
   ]
  },
  {
   "cell_type": "markdown",
   "id": "12349240",
   "metadata": {},
   "source": [
    "#### Logistic Regression"
   ]
  },
  {
   "cell_type": "code",
   "execution_count": 23,
   "id": "25440f20",
   "metadata": {},
   "outputs": [
    {
     "name": "stdout",
     "output_type": "stream",
     "text": [
      "(11916, 8) (1324, 8) (11916,) (1324,)\n",
      "              precision    recall  f1-score   support\n",
      "\n",
      "           0       0.78      0.90      0.83       884\n",
      "           1       0.71      0.49      0.58       440\n",
      "\n",
      "    accuracy                           0.76      1324\n",
      "   macro avg       0.74      0.69      0.71      1324\n",
      "weighted avg       0.75      0.76      0.75      1324\n",
      "\n"
     ]
    },
    {
     "data": {
      "text/html": [
       "<div>\n",
       "<style scoped>\n",
       "    .dataframe tbody tr th:only-of-type {\n",
       "        vertical-align: middle;\n",
       "    }\n",
       "\n",
       "    .dataframe tbody tr th {\n",
       "        vertical-align: top;\n",
       "    }\n",
       "\n",
       "    .dataframe thead th {\n",
       "        text-align: right;\n",
       "    }\n",
       "</style>\n",
       "<table border=\"1\" class=\"dataframe\">\n",
       "  <thead>\n",
       "    <tr style=\"text-align: right;\">\n",
       "      <th></th>\n",
       "      <th>230</th>\n",
       "      <th>785</th>\n",
       "      <th>116</th>\n",
       "      <th>439</th>\n",
       "      <th>988</th>\n",
       "      <th>1253</th>\n",
       "      <th>164</th>\n",
       "      <th>1177</th>\n",
       "      <th>698</th>\n",
       "      <th>11</th>\n",
       "      <th>133</th>\n",
       "      <th>372</th>\n",
       "      <th>606</th>\n",
       "      <th>641</th>\n",
       "      <th>1053</th>\n",
       "      <th>1296</th>\n",
       "      <th>32</th>\n",
       "      <th>722</th>\n",
       "    </tr>\n",
       "  </thead>\n",
       "  <tbody>\n",
       "    <tr>\n",
       "      <th>true</th>\n",
       "      <td>0</td>\n",
       "      <td>0</td>\n",
       "      <td>0</td>\n",
       "      <td>1</td>\n",
       "      <td>1</td>\n",
       "      <td>0</td>\n",
       "      <td>0</td>\n",
       "      <td>1</td>\n",
       "      <td>1</td>\n",
       "      <td>0</td>\n",
       "      <td>0</td>\n",
       "      <td>0</td>\n",
       "      <td>1</td>\n",
       "      <td>0</td>\n",
       "      <td>1</td>\n",
       "      <td>0</td>\n",
       "      <td>0</td>\n",
       "      <td>0</td>\n",
       "    </tr>\n",
       "    <tr>\n",
       "      <th>pred</th>\n",
       "      <td>0</td>\n",
       "      <td>0</td>\n",
       "      <td>0</td>\n",
       "      <td>1</td>\n",
       "      <td>1</td>\n",
       "      <td>0</td>\n",
       "      <td>0</td>\n",
       "      <td>0</td>\n",
       "      <td>1</td>\n",
       "      <td>0</td>\n",
       "      <td>0</td>\n",
       "      <td>0</td>\n",
       "      <td>0</td>\n",
       "      <td>0</td>\n",
       "      <td>0</td>\n",
       "      <td>0</td>\n",
       "      <td>1</td>\n",
       "      <td>0</td>\n",
       "    </tr>\n",
       "  </tbody>\n",
       "</table>\n",
       "</div>"
      ],
      "text/plain": [
       "      230   785   116   439   988   1253  164   1177  698   11    133   372   \\\n",
       "true     0     0     0     1     1     0     0     1     1     0     0     0   \n",
       "pred     0     0     0     1     1     0     0     0     1     0     0     0   \n",
       "\n",
       "      606   641   1053  1296  32    722   \n",
       "true     1     0     1     0     0     0  \n",
       "pred     0     0     0     0     1     0  "
      ]
     },
     "execution_count": 23,
     "metadata": {},
     "output_type": "execute_result"
    },
    {
     "data": {
      "image/png": "[encoded data removed]",
      "text/plain": [
       "<Figure size 720x720 with 2 Axes>"
      ]
     },
     "metadata": {},
     "output_type": "display_data"
    }
   ],
   "source": [
    "from sklearn.linear_model import LogisticRegression\n",
    "\n",
    "clf = LogisticRegression(random_state=42, max_iter=1500)\n",
    "\n",
    "X = df.drop(columns=['id', 'label', 'target'])\n",
    "y = df.target\n",
    "\n",
    "# Split data into training, dev and test sets\n",
    "X_train, X_val, y_train, y_val = train_test_split(X, y, test_size=.10, stratify=y, random_state=42)\n",
    "print(X_train.shape, X_val.shape, y_train.shape, y_val.shape)\n",
    "\n",
    "scaler = StandardScaler()\n",
    "\n",
    "tfidf_vect = TfidfVectorizer(ngram_range=(1, 2), stop_words='english')\n",
    "#tfidf_char = TfidfVectorizer(ngram_range=(2, 2), analyzer='char', stop_words='english')\n",
    "#count_vect = CountVectorizer(ngram_range=(1, 3), stop_words='english')\n",
    "\n",
    "# We distribute the different columns to different preprocessing steps\n",
    "preprocessor = make_column_transformer(\n",
    "     (scaler, ['compound', 'neg', 'neu', 'pos']), # we scale numeric features\n",
    "     (scaler, ['prof', 'prof_prob']),\n",
    "     (tfidf_vect, 'clean'),\n",
    "#     (tfidf_char, 'clean'),\n",
    "    remainder = 'drop')\n",
    "\n",
    "log_pipe = make_pipeline(preprocessor, clf)\n",
    "\n",
    "log_pipe.fit(X_train, y_train)\n",
    "y_val_pred = log_pipe.predict(X_val)\n",
    "\n",
    "print(classification_report(y_val, y_val_pred))\n",
    "\n",
    "cm = confusion_matrix(y_val, y_val_pred, labels=log_pipe.classes_)\n",
    "disp = ConfusionMatrixDisplay(confusion_matrix=cm, display_labels=log_pipe.classes_)\n",
    "\n",
    "fig, ax = plt.subplots(figsize=(10,10))\n",
    "disp.plot(ax=ax);\n",
    "\n",
    "truth = np.array(y_val)\n",
    "preds = np.array(y_val_pred)\n",
    "comps = pd.DataFrame({'true': truth, 'pred': list(preds)}, columns=['true', 'pred'])\n",
    "comps.sample(18).T"
   ]
  },
  {
   "cell_type": "markdown",
   "id": "26f402db",
   "metadata": {},
   "source": [
    "#### Random Forest"
   ]
  },
  {
   "cell_type": "code",
   "execution_count": 24,
   "id": "b57077ef",
   "metadata": {},
   "outputs": [
    {
     "name": "stdout",
     "output_type": "stream",
     "text": [
      "(11916, 8) (1324, 8) (11916,) (1324,)\n",
      "              precision    recall  f1-score   support\n",
      "\n",
      "           0       0.77      0.93      0.84       884\n",
      "           1       0.75      0.45      0.57       440\n",
      "\n",
      "    accuracy                           0.77      1324\n",
      "   macro avg       0.76      0.69      0.71      1324\n",
      "weighted avg       0.77      0.77      0.75      1324\n",
      "\n"
     ]
    },
    {
     "data": {
      "text/html": [
       "<div>\n",
       "<style scoped>\n",
       "    .dataframe tbody tr th:only-of-type {\n",
       "        vertical-align: middle;\n",
       "    }\n",
       "\n",
       "    .dataframe tbody tr th {\n",
       "        vertical-align: top;\n",
       "    }\n",
       "\n",
       "    .dataframe thead th {\n",
       "        text-align: right;\n",
       "    }\n",
       "</style>\n",
       "<table border=\"1\" class=\"dataframe\">\n",
       "  <thead>\n",
       "    <tr style=\"text-align: right;\">\n",
       "      <th></th>\n",
       "      <th>123</th>\n",
       "      <th>234</th>\n",
       "      <th>868</th>\n",
       "      <th>1220</th>\n",
       "      <th>355</th>\n",
       "      <th>321</th>\n",
       "      <th>487</th>\n",
       "      <th>249</th>\n",
       "      <th>1024</th>\n",
       "      <th>792</th>\n",
       "      <th>1317</th>\n",
       "      <th>10</th>\n",
       "      <th>1177</th>\n",
       "      <th>572</th>\n",
       "      <th>83</th>\n",
       "      <th>542</th>\n",
       "      <th>618</th>\n",
       "      <th>616</th>\n",
       "    </tr>\n",
       "  </thead>\n",
       "  <tbody>\n",
       "    <tr>\n",
       "      <th>true</th>\n",
       "      <td>1</td>\n",
       "      <td>0</td>\n",
       "      <td>1</td>\n",
       "      <td>1</td>\n",
       "      <td>0</td>\n",
       "      <td>0</td>\n",
       "      <td>0</td>\n",
       "      <td>0</td>\n",
       "      <td>0</td>\n",
       "      <td>0</td>\n",
       "      <td>0</td>\n",
       "      <td>0</td>\n",
       "      <td>1</td>\n",
       "      <td>0</td>\n",
       "      <td>0</td>\n",
       "      <td>1</td>\n",
       "      <td>1</td>\n",
       "      <td>0</td>\n",
       "    </tr>\n",
       "    <tr>\n",
       "      <th>pred</th>\n",
       "      <td>1</td>\n",
       "      <td>0</td>\n",
       "      <td>0</td>\n",
       "      <td>0</td>\n",
       "      <td>0</td>\n",
       "      <td>0</td>\n",
       "      <td>1</td>\n",
       "      <td>0</td>\n",
       "      <td>0</td>\n",
       "      <td>0</td>\n",
       "      <td>0</td>\n",
       "      <td>1</td>\n",
       "      <td>0</td>\n",
       "      <td>0</td>\n",
       "      <td>0</td>\n",
       "      <td>1</td>\n",
       "      <td>0</td>\n",
       "      <td>0</td>\n",
       "    </tr>\n",
       "  </tbody>\n",
       "</table>\n",
       "</div>"
      ],
      "text/plain": [
       "      123   234   868   1220  355   321   487   249   1024  792   1317  10    \\\n",
       "true     1     0     1     1     0     0     0     0     0     0     0     0   \n",
       "pred     1     0     0     0     0     0     1     0     0     0     0     1   \n",
       "\n",
       "      1177  572   83    542   618   616   \n",
       "true     1     0     0     1     1     0  \n",
       "pred     0     0     0     1     0     0  "
      ]
     },
     "execution_count": 24,
     "metadata": {},
     "output_type": "execute_result"
    },
    {
     "data": {
      "image/png": "[encoded data removed]",
      "text/plain": [
       "<Figure size 720x720 with 2 Axes>"
      ]
     },
     "metadata": {},
     "output_type": "display_data"
    }
   ],
   "source": [
    "from sklearn.ensemble import RandomForestClassifier, AdaBoostClassifier\n",
    "\n",
    "clf = RandomForestClassifier(random_state=42, class_weight='balanced')\n",
    "\n",
    "X = df.drop(columns=['id', 'label', 'target'])\n",
    "y = df.target\n",
    "\n",
    "# Split data into training, dev and test sets\n",
    "X_train, X_val, y_train, y_val = train_test_split(X, y, test_size=.10, stratify=y, random_state=42)\n",
    "print(X_train.shape, X_val.shape, y_train.shape, y_val.shape)\n",
    "\n",
    "scaler = StandardScaler()\n",
    "\n",
    "tfidf_vect = TfidfVectorizer(ngram_range=(1, 2), stop_words='english')\n",
    "#tfidf_char = TfidfVectorizer(ngram_range=(2, 2), analyzer='char', stop_words='english')\n",
    "#count_vect = CountVectorizer(ngram_range=(1, 3), stop_words='english')\n",
    "\n",
    "# We distribute the different columns to different preprocessing steps\n",
    "preprocessor = make_column_transformer(\n",
    "     (scaler, ['compound', 'neg', 'neu', 'pos']), # we scale numeric features\n",
    "     (scaler, ['prof', 'prof_prob']),\n",
    "     (tfidf_vect, 'clean'),\n",
    "#     (tfidf_char, 'clean'),\n",
    "    remainder = 'drop')\n",
    "\n",
    "pipe = make_pipeline(preprocessor, clf)\n",
    "\n",
    "pipe.fit(X_train, y_train)\n",
    "y_val_pred = pipe.predict(X_val)\n",
    "\n",
    "print(classification_report(y_val, y_val_pred))\n",
    "\n",
    "cm = confusion_matrix(y_val, y_val_pred, labels=pipe.classes_)\n",
    "disp = ConfusionMatrixDisplay(confusion_matrix=cm, display_labels=pipe.classes_)\n",
    "\n",
    "fig, ax = plt.subplots(figsize=(10,10))\n",
    "disp.plot(ax=ax);\n",
    "\n",
    "truth = np.array(y_val)\n",
    "preds = np.array(y_val_pred)\n",
    "comps = pd.DataFrame({'true': truth, 'pred': list(preds)}, columns=['true', 'pred'])\n",
    "comps.sample(18).T"
   ]
  },
  {
   "cell_type": "markdown",
   "id": "0681aead",
   "metadata": {},
   "source": [
    "#### Decision Tree"
   ]
  },
  {
   "cell_type": "code",
   "execution_count": 25,
   "id": "8a7c8ef7",
   "metadata": {},
   "outputs": [
    {
     "name": "stdout",
     "output_type": "stream",
     "text": [
      "(11916, 8) (1324, 8) (11916,) (1324,)\n",
      "              precision    recall  f1-score   support\n",
      "\n",
      "           0       0.81      0.83      0.82       884\n",
      "           1       0.64      0.61      0.63       440\n",
      "\n",
      "    accuracy                           0.76      1324\n",
      "   macro avg       0.73      0.72      0.72      1324\n",
      "weighted avg       0.75      0.76      0.76      1324\n",
      "\n"
     ]
    },
    {
     "data": {
      "text/html": [
       "<div>\n",
       "<style scoped>\n",
       "    .dataframe tbody tr th:only-of-type {\n",
       "        vertical-align: middle;\n",
       "    }\n",
       "\n",
       "    .dataframe tbody tr th {\n",
       "        vertical-align: top;\n",
       "    }\n",
       "\n",
       "    .dataframe thead th {\n",
       "        text-align: right;\n",
       "    }\n",
       "</style>\n",
       "<table border=\"1\" class=\"dataframe\">\n",
       "  <thead>\n",
       "    <tr style=\"text-align: right;\">\n",
       "      <th></th>\n",
       "      <th>1162</th>\n",
       "      <th>596</th>\n",
       "      <th>22</th>\n",
       "      <th>184</th>\n",
       "      <th>991</th>\n",
       "      <th>698</th>\n",
       "      <th>232</th>\n",
       "      <th>461</th>\n",
       "      <th>945</th>\n",
       "      <th>552</th>\n",
       "      <th>855</th>\n",
       "      <th>1010</th>\n",
       "      <th>269</th>\n",
       "      <th>1242</th>\n",
       "      <th>1054</th>\n",
       "      <th>578</th>\n",
       "      <th>1106</th>\n",
       "      <th>60</th>\n",
       "    </tr>\n",
       "  </thead>\n",
       "  <tbody>\n",
       "    <tr>\n",
       "      <th>true</th>\n",
       "      <td>0</td>\n",
       "      <td>0</td>\n",
       "      <td>0</td>\n",
       "      <td>0</td>\n",
       "      <td>0</td>\n",
       "      <td>1</td>\n",
       "      <td>0</td>\n",
       "      <td>0</td>\n",
       "      <td>0</td>\n",
       "      <td>0</td>\n",
       "      <td>1</td>\n",
       "      <td>1</td>\n",
       "      <td>0</td>\n",
       "      <td>0</td>\n",
       "      <td>0</td>\n",
       "      <td>1</td>\n",
       "      <td>0</td>\n",
       "      <td>0</td>\n",
       "    </tr>\n",
       "    <tr>\n",
       "      <th>pred</th>\n",
       "      <td>1</td>\n",
       "      <td>0</td>\n",
       "      <td>0</td>\n",
       "      <td>0</td>\n",
       "      <td>0</td>\n",
       "      <td>1</td>\n",
       "      <td>0</td>\n",
       "      <td>0</td>\n",
       "      <td>0</td>\n",
       "      <td>0</td>\n",
       "      <td>1</td>\n",
       "      <td>1</td>\n",
       "      <td>0</td>\n",
       "      <td>0</td>\n",
       "      <td>0</td>\n",
       "      <td>1</td>\n",
       "      <td>0</td>\n",
       "      <td>0</td>\n",
       "    </tr>\n",
       "  </tbody>\n",
       "</table>\n",
       "</div>"
      ],
      "text/plain": [
       "      1162  596   22    184   991   698   232   461   945   552   855   1010  \\\n",
       "true     0     0     0     0     0     1     0     0     0     0     1     1   \n",
       "pred     1     0     0     0     0     1     0     0     0     0     1     1   \n",
       "\n",
       "      269   1242  1054  578   1106  60    \n",
       "true     0     0     0     1     0     0  \n",
       "pred     0     0     0     1     0     0  "
      ]
     },
     "execution_count": 25,
     "metadata": {},
     "output_type": "execute_result"
    },
    {
     "data": {
      "image/png": "[encoded data removed]",
      "text/plain": [
       "<Figure size 720x720 with 2 Axes>"
      ]
     },
     "metadata": {},
     "output_type": "display_data"
    }
   ],
   "source": [
    "from sklearn.tree import DecisionTreeClassifier\n",
    "\n",
    "clf = DecisionTreeClassifier(random_state=42, class_weight='balanced', max_depth=5)\n",
    "\n",
    "X = df.drop(columns=['id', 'label', 'target'])\n",
    "y = df.target\n",
    "\n",
    "# Split data into training, dev and test sets\n",
    "X_train, X_val, y_train, y_val = train_test_split(X, y, test_size=.10, stratify=y, random_state=42)\n",
    "print(X_train.shape, X_val.shape, y_train.shape, y_val.shape)\n",
    "\n",
    "scaler = StandardScaler()\n",
    "\n",
    "tfidf_vect = TfidfVectorizer(ngram_range=(1, 2), stop_words='english')\n",
    "#tfidf_char = TfidfVectorizer(ngram_range=(2, 2), analyzer='char', stop_words='english')\n",
    "#count_vect = CountVectorizer(ngram_range=(1, 3), stop_words='english')\n",
    "\n",
    "# We distribute the different columns to different preprocessing steps\n",
    "preprocessor = make_column_transformer(\n",
    "     (scaler, ['compound', 'neg', 'neu', 'pos']), # we scale numeric features\n",
    "     (scaler, ['prof', 'prof_prob']),\n",
    "     (tfidf_vect, 'clean'),\n",
    "#     (tfidf_char, 'clean'),\n",
    "    remainder = 'drop')\n",
    "\n",
    "pipe = make_pipeline(preprocessor, clf)\n",
    "\n",
    "pipe.fit(X_train, y_train)\n",
    "y_val_pred = pipe.predict(X_val)\n",
    "\n",
    "print(classification_report(y_val, y_val_pred))\n",
    "\n",
    "cm = confusion_matrix(y_val, y_val_pred, labels=pipe.classes_)\n",
    "disp = ConfusionMatrixDisplay(confusion_matrix=cm, display_labels=pipe.classes_)\n",
    "\n",
    "fig, ax = plt.subplots(figsize=(10,10))\n",
    "disp.plot(ax=ax);\n",
    "\n",
    "truth = np.array(y_val)\n",
    "preds = np.array(y_val_pred)\n",
    "comps = pd.DataFrame({'true': truth, 'pred': list(preds)}, columns=['true', 'pred'])\n",
    "comps.sample(18).T"
   ]
  },
  {
   "cell_type": "markdown",
   "id": "587a0c9e",
   "metadata": {},
   "source": [
    "#### KNN"
   ]
  },
  {
   "cell_type": "code",
   "execution_count": 26,
   "id": "376bb19f",
   "metadata": {
    "scrolled": false
   },
   "outputs": [
    {
     "name": "stdout",
     "output_type": "stream",
     "text": [
      "(11916, 8) (1324, 8) (11916,) (1324,)\n",
      "              precision    recall  f1-score   support\n",
      "\n",
      "           0       0.79      0.88      0.83       884\n",
      "           1       0.69      0.52      0.59       440\n",
      "\n",
      "    accuracy                           0.76      1324\n",
      "   macro avg       0.74      0.70      0.71      1324\n",
      "weighted avg       0.75      0.76      0.75      1324\n",
      "\n"
     ]
    },
    {
     "data": {
      "text/html": [
       "<div>\n",
       "<style scoped>\n",
       "    .dataframe tbody tr th:only-of-type {\n",
       "        vertical-align: middle;\n",
       "    }\n",
       "\n",
       "    .dataframe tbody tr th {\n",
       "        vertical-align: top;\n",
       "    }\n",
       "\n",
       "    .dataframe thead th {\n",
       "        text-align: right;\n",
       "    }\n",
       "</style>\n",
       "<table border=\"1\" class=\"dataframe\">\n",
       "  <thead>\n",
       "    <tr style=\"text-align: right;\">\n",
       "      <th></th>\n",
       "      <th>929</th>\n",
       "      <th>263</th>\n",
       "      <th>936</th>\n",
       "      <th>1286</th>\n",
       "      <th>1190</th>\n",
       "      <th>278</th>\n",
       "      <th>1248</th>\n",
       "      <th>788</th>\n",
       "      <th>564</th>\n",
       "      <th>97</th>\n",
       "      <th>448</th>\n",
       "      <th>494</th>\n",
       "      <th>1112</th>\n",
       "      <th>529</th>\n",
       "      <th>889</th>\n",
       "      <th>1078</th>\n",
       "      <th>642</th>\n",
       "      <th>1192</th>\n",
       "    </tr>\n",
       "  </thead>\n",
       "  <tbody>\n",
       "    <tr>\n",
       "      <th>true</th>\n",
       "      <td>0</td>\n",
       "      <td>1</td>\n",
       "      <td>1</td>\n",
       "      <td>0</td>\n",
       "      <td>0</td>\n",
       "      <td>0</td>\n",
       "      <td>0</td>\n",
       "      <td>0</td>\n",
       "      <td>0</td>\n",
       "      <td>1</td>\n",
       "      <td>1</td>\n",
       "      <td>1</td>\n",
       "      <td>1</td>\n",
       "      <td>1</td>\n",
       "      <td>1</td>\n",
       "      <td>0</td>\n",
       "      <td>0</td>\n",
       "      <td>1</td>\n",
       "    </tr>\n",
       "    <tr>\n",
       "      <th>pred</th>\n",
       "      <td>0</td>\n",
       "      <td>1</td>\n",
       "      <td>0</td>\n",
       "      <td>0</td>\n",
       "      <td>0</td>\n",
       "      <td>0</td>\n",
       "      <td>1</td>\n",
       "      <td>0</td>\n",
       "      <td>0</td>\n",
       "      <td>0</td>\n",
       "      <td>1</td>\n",
       "      <td>1</td>\n",
       "      <td>0</td>\n",
       "      <td>0</td>\n",
       "      <td>0</td>\n",
       "      <td>0</td>\n",
       "      <td>0</td>\n",
       "      <td>1</td>\n",
       "    </tr>\n",
       "  </tbody>\n",
       "</table>\n",
       "</div>"
      ],
      "text/plain": [
       "      929   263   936   1286  1190  278   1248  788   564   97    448   494   \\\n",
       "true     0     1     1     0     0     0     0     0     0     1     1     1   \n",
       "pred     0     1     0     0     0     0     1     0     0     0     1     1   \n",
       "\n",
       "      1112  529   889   1078  642   1192  \n",
       "true     1     1     1     0     0     1  \n",
       "pred     0     0     0     0     0     1  "
      ]
     },
     "execution_count": 26,
     "metadata": {},
     "output_type": "execute_result"
    },
    {
     "data": {
      "image/png": "[encoded data removed]",
      "text/plain": [
       "<Figure size 720x720 with 2 Axes>"
      ]
     },
     "metadata": {},
     "output_type": "display_data"
    }
   ],
   "source": [
    "from sklearn.neighbors import KNeighborsClassifier\n",
    "\n",
    "clf = KNeighborsClassifier(15)\n",
    "\n",
    "X = df.drop(columns=['id', 'label', 'target'])\n",
    "y = df.target\n",
    "\n",
    "# Split data into training, dev and test sets\n",
    "X_train, X_val, y_train, y_val = train_test_split(X, y, test_size=.10, stratify=y, random_state=42)\n",
    "print(X_train.shape, X_val.shape, y_train.shape, y_val.shape)\n",
    "\n",
    "scaler = StandardScaler()\n",
    "\n",
    "tfidf_vect = TfidfVectorizer(ngram_range=(1, 2), stop_words='english')\n",
    "#tfidf_char = TfidfVectorizer(ngram_range=(2, 2), analyzer='char', stop_words='english')\n",
    "#count_vect = CountVectorizer(ngram_range=(1, 3), stop_words='english')\n",
    "\n",
    "# We distribute the different columns to different preprocessing steps\n",
    "preprocessor = make_column_transformer(\n",
    "     (scaler, ['compound', 'neg', 'neu', 'pos']), # we scale numeric features\n",
    "     (scaler, ['prof', 'prof_prob']),\n",
    "     (tfidf_vect, 'clean'),\n",
    "#     (tfidf_char, 'clean'),\n",
    "    remainder = 'drop')\n",
    "\n",
    "pipe = make_pipeline(preprocessor, clf)\n",
    "\n",
    "pipe.fit(X_train, y_train)\n",
    "y_val_pred = pipe.predict(X_val)\n",
    "\n",
    "print(classification_report(y_val, y_val_pred))\n",
    "\n",
    "cm = confusion_matrix(y_val, y_val_pred, labels=pipe.classes_)\n",
    "disp = ConfusionMatrixDisplay(confusion_matrix=cm, display_labels=pipe.classes_)\n",
    "\n",
    "fig, ax = plt.subplots(figsize=(10,10))\n",
    "disp.plot(ax=ax);\n",
    "\n",
    "truth = np.array(y_val)\n",
    "preds = np.array(y_val_pred)\n",
    "comps = pd.DataFrame({'true': truth, 'pred': list(preds)}, columns=['true', 'pred'])\n",
    "comps.sample(18).T"
   ]
  },
  {
   "cell_type": "markdown",
   "id": "155cd279",
   "metadata": {},
   "source": [
    "### Finally, Linear SVM model (LinearSVC) achieved best results and is likely to gerealize better to other data"
   ]
  },
  {
   "cell_type": "code",
   "execution_count": 27,
   "id": "7e807566",
   "metadata": {
    "scrolled": false
   },
   "outputs": [
    {
     "name": "stdout",
     "output_type": "stream",
     "text": [
      "(11916, 8) (1324, 8) (11916,) (1324,)\n",
      "              precision    recall  f1-score   support\n",
      "\n",
      "           0       0.82      0.83      0.83       884\n",
      "           1       0.65      0.64      0.65       440\n",
      "\n",
      "    accuracy                           0.77      1324\n",
      "   macro avg       0.74      0.73      0.74      1324\n",
      "weighted avg       0.77      0.77      0.77      1324\n",
      "\n"
     ]
    },
    {
     "data": {
      "text/html": [
       "<div>\n",
       "<style scoped>\n",
       "    .dataframe tbody tr th:only-of-type {\n",
       "        vertical-align: middle;\n",
       "    }\n",
       "\n",
       "    .dataframe tbody tr th {\n",
       "        vertical-align: top;\n",
       "    }\n",
       "\n",
       "    .dataframe thead th {\n",
       "        text-align: right;\n",
       "    }\n",
       "</style>\n",
       "<table border=\"1\" class=\"dataframe\">\n",
       "  <thead>\n",
       "    <tr style=\"text-align: right;\">\n",
       "      <th></th>\n",
       "      <th>400</th>\n",
       "      <th>313</th>\n",
       "      <th>540</th>\n",
       "      <th>33</th>\n",
       "      <th>107</th>\n",
       "      <th>1134</th>\n",
       "      <th>938</th>\n",
       "      <th>34</th>\n",
       "      <th>152</th>\n",
       "      <th>895</th>\n",
       "      <th>211</th>\n",
       "      <th>1140</th>\n",
       "      <th>533</th>\n",
       "      <th>713</th>\n",
       "      <th>483</th>\n",
       "      <th>44</th>\n",
       "      <th>571</th>\n",
       "      <th>547</th>\n",
       "    </tr>\n",
       "  </thead>\n",
       "  <tbody>\n",
       "    <tr>\n",
       "      <th>true</th>\n",
       "      <td>1</td>\n",
       "      <td>0</td>\n",
       "      <td>1</td>\n",
       "      <td>1</td>\n",
       "      <td>1</td>\n",
       "      <td>0</td>\n",
       "      <td>0</td>\n",
       "      <td>0</td>\n",
       "      <td>0</td>\n",
       "      <td>0</td>\n",
       "      <td>1</td>\n",
       "      <td>1</td>\n",
       "      <td>0</td>\n",
       "      <td>0</td>\n",
       "      <td>0</td>\n",
       "      <td>1</td>\n",
       "      <td>0</td>\n",
       "      <td>0</td>\n",
       "    </tr>\n",
       "    <tr>\n",
       "      <th>pred</th>\n",
       "      <td>1</td>\n",
       "      <td>0</td>\n",
       "      <td>0</td>\n",
       "      <td>1</td>\n",
       "      <td>1</td>\n",
       "      <td>0</td>\n",
       "      <td>0</td>\n",
       "      <td>0</td>\n",
       "      <td>0</td>\n",
       "      <td>0</td>\n",
       "      <td>1</td>\n",
       "      <td>1</td>\n",
       "      <td>0</td>\n",
       "      <td>0</td>\n",
       "      <td>0</td>\n",
       "      <td>1</td>\n",
       "      <td>0</td>\n",
       "      <td>0</td>\n",
       "    </tr>\n",
       "  </tbody>\n",
       "</table>\n",
       "</div>"
      ],
      "text/plain": [
       "      400   313   540   33    107   1134  938   34    152   895   211   1140  \\\n",
       "true     1     0     1     1     1     0     0     0     0     0     1     1   \n",
       "pred     1     0     0     1     1     0     0     0     0     0     1     1   \n",
       "\n",
       "      533   713   483   44    571   547   \n",
       "true     0     0     0     1     0     0  \n",
       "pred     0     0     0     1     0     0  "
      ]
     },
     "execution_count": 27,
     "metadata": {},
     "output_type": "execute_result"
    },
    {
     "data": {
      "image/png": "[encoded data removed]",
      "text/plain": [
       "<Figure size 720x720 with 2 Axes>"
      ]
     },
     "metadata": {},
     "output_type": "display_data"
    }
   ],
   "source": [
    "from sklearn.svm import LinearSVC # LinearSVC gave better results than regular SVM (with linear/rbf/poly kernel)\n",
    "\n",
    "clf = LinearSVC(random_state=42, class_weight='balanced', max_iter=3000) # max_iter=1500\n",
    "# \"class_weight='balanced'\": Set the parameter C of class i to [class_weight[i]*C] for SVC. \n",
    "# If not given, all classes are supposed to have weight one. The \"balanced\" mode uses the \n",
    "# values of y to automatically adjust weights inversely proportional to class frequencies \n",
    "# in the input data as [n_samples / (n_classes * np.bincount(y))].\n",
    "\n",
    "X = df.drop(columns=['id', 'label', 'target'])\n",
    "y = df.target\n",
    "\n",
    "# Split data into training, dev and test sets\n",
    "X_train, X_val, y_train, y_val = train_test_split(X, y, test_size=.10, stratify=y, random_state=42)\n",
    "print(X_train.shape, X_val.shape, y_train.shape, y_val.shape)\n",
    "\n",
    "scaler = StandardScaler()\n",
    "\n",
    "tfidf_vect = TfidfVectorizer(ngram_range=(1, 2), stop_words='english')\n",
    "#tfidf_char = TfidfVectorizer(ngram_range=(2, 2), analyzer='char', stop_words='english')\n",
    "#count_vect = CountVectorizer(ngram_range=(1, 3), stop_words='english')\n",
    "\n",
    "# We distribute the different columns to different preprocessing steps\n",
    "preprocessor = make_column_transformer(\n",
    "     (scaler, ['compound', 'neg', 'neu', 'pos']), # we scale numeric features\n",
    "     (scaler, ['prof', 'prof_prob']),\n",
    "     (tfidf_vect, 'clean'),\n",
    "#     (tfidf_char, 'clean'),\n",
    "    remainder = 'drop')\n",
    "\n",
    "svm_pipe = make_pipeline(preprocessor, clf)\n",
    "\n",
    "svm_pipe.fit(X_train, y_train)\n",
    "y_val_pred = svm_pipe.predict(X_val)\n",
    "\n",
    "print(classification_report(y_val, y_val_pred))\n",
    "\n",
    "cm = confusion_matrix(y_val, y_val_pred, labels=svm_pipe.classes_)\n",
    "disp = ConfusionMatrixDisplay(confusion_matrix=cm, display_labels=svm_pipe.classes_)\n",
    "\n",
    "fig, ax = plt.subplots(figsize=(10,10))\n",
    "disp.plot(ax=ax);\n",
    "\n",
    "truth = np.array(y_val)\n",
    "preds = np.array(y_val_pred)\n",
    "comps = pd.DataFrame({'true': truth, 'pred': list(preds)}, columns=['true', 'pred'])\n",
    "comps.sample(18).T"
   ]
  },
  {
   "cell_type": "code",
   "execution_count": 28,
   "id": "0ea61ecf",
   "metadata": {},
   "outputs": [],
   "source": [
    "# Linear SVC appears to be the best. Ideally, we would verify this by doing CVs and GridSearch for all (top) models!"
   ]
  },
  {
   "cell_type": "markdown",
   "id": "5aff5328",
   "metadata": {},
   "source": [
    "#### 10-fold cross-validation with macro F1-score as scoring metric (on the entire training set (X, y), see also grid search below)"
   ]
  },
  {
   "cell_type": "code",
   "execution_count": 29,
   "id": "07326216",
   "metadata": {
    "scrolled": true
   },
   "outputs": [
    {
     "name": "stdout",
     "output_type": "stream",
     "text": [
      "[0.70793186 0.73247226 0.74582252 0.73531354 0.73287067 0.7367489\n",
      " 0.76029786 0.74020754 0.73359405 0.73387388]\n",
      "\n",
      "\n",
      "Mean 0.7359133071262484, Std 0.012352712496753153\n"
     ]
    }
   ],
   "source": [
    "from sklearn.model_selection import cross_val_score\n",
    "\n",
    "scores = cross_val_score(svm_pipe, X, y, cv=10, scoring='f1_macro')\n",
    "# 'f1_macro' for binary classification gives f1 for positive class\n",
    "print(scores)\n",
    "print('\\n')\n",
    "print(f\"Mean {scores.mean()}, Std {scores.std()}\")\n",
    "\n",
    "# returns average macro-f1 score over 10 folds (no control over stratification, etc. -> stratified k-fold = better?)\n",
    "# consistent scores with small standard deviation indicate that the model is not overfitting on the training data..."
   ]
  },
  {
   "cell_type": "markdown",
   "id": "1d48489f",
   "metadata": {},
   "source": [
    "#### SVM GridSearch under 10-fold cross-validation to determine the optimal settings for the “C”, “loss”, and “penalty” parameters"
   ]
  },
  {
   "cell_type": "code",
   "execution_count": 30,
   "id": "9710f91f",
   "metadata": {},
   "outputs": [
    {
     "data": {
      "text/plain": [
       "{'C': 1.0,\n",
       " 'class_weight': 'balanced',\n",
       " 'dual': True,\n",
       " 'fit_intercept': True,\n",
       " 'intercept_scaling': 1,\n",
       " 'loss': 'squared_hinge',\n",
       " 'max_iter': 3000,\n",
       " 'multi_class': 'ovr',\n",
       " 'penalty': 'l2',\n",
       " 'random_state': 42,\n",
       " 'tol': 0.0001,\n",
       " 'verbose': 0}"
      ]
     },
     "execution_count": 30,
     "metadata": {},
     "output_type": "execute_result"
    }
   ],
   "source": [
    "clf.get_params()"
   ]
  },
  {
   "cell_type": "code",
   "execution_count": 31,
   "id": "60513c14",
   "metadata": {
    "scrolled": true
   },
   "outputs": [
    {
     "name": "stdout",
     "output_type": "stream",
     "text": [
      "Fitting 10 folds for each of 16 candidates, totalling 160 fits\n",
      "0.7465915690254672\n",
      "{'linearsvc__C': 0.1, 'linearsvc__loss': 'squared_hinge', 'linearsvc__penalty': 'l2'}\n"
     ]
    }
   ],
   "source": [
    "params = [{\n",
    "    #'columntransformer__tfidfvectorizer__ngram_range': [(1, 1), (1, 2), (2, 2), (1, 3), (1, 4), (1, 6), (2, 7)],\n",
    "    'linearsvc__C': [0.0001, 0.001, 0.01, 0.1, 1.0, 10.0, 100.0, 1000.0], # strength of the regularization\n",
    "    'linearsvc__loss': ['squared_hinge', 'hinge'], # hinge = standard; squared_hinge = square of hinge loss\n",
    "    'linearsvc__penalty': ['l2'] # norm used in the penalization; default = ‘l2’\n",
    "    # Note: combination of penalty='l1' and (squared_)loss='hinge' is not supported; loss='log' is not supported\n",
    "    }]\n",
    "\n",
    "gs = GridSearchCV(svm_pipe, params, n_jobs=-1, cv=10, verbose=1, scoring='f1_macro')\n",
    "gs.fit(X, y)\n",
    "\n",
    "print(gs.best_score_)  # top score\n",
    "print(gs.best_params_) # best param settings -> GridSearch for hyper-parameter tuning SVM model had been chosen"
   ]
  },
  {
   "cell_type": "markdown",
   "id": "2a277463",
   "metadata": {},
   "source": [
    "#### SVM performance on the 10% validation set with grid searched hyper-parameters"
   ]
  },
  {
   "cell_type": "code",
   "execution_count": 32,
   "id": "a9bed9a7",
   "metadata": {
    "scrolled": false
   },
   "outputs": [
    {
     "name": "stdout",
     "output_type": "stream",
     "text": [
      "(11916, 8) (1324, 8) (11916,) (1324,)\n",
      "              precision    recall  f1-score   support\n",
      "\n",
      "           0       0.82      0.82      0.82       884\n",
      "           1       0.64      0.65      0.64       440\n",
      "\n",
      "    accuracy                           0.76      1324\n",
      "   macro avg       0.73      0.73      0.73      1324\n",
      "weighted avg       0.76      0.76      0.76      1324\n",
      "\n"
     ]
    },
    {
     "data": {
      "text/html": [
       "<div>\n",
       "<style scoped>\n",
       "    .dataframe tbody tr th:only-of-type {\n",
       "        vertical-align: middle;\n",
       "    }\n",
       "\n",
       "    .dataframe tbody tr th {\n",
       "        vertical-align: top;\n",
       "    }\n",
       "\n",
       "    .dataframe thead th {\n",
       "        text-align: right;\n",
       "    }\n",
       "</style>\n",
       "<table border=\"1\" class=\"dataframe\">\n",
       "  <thead>\n",
       "    <tr style=\"text-align: right;\">\n",
       "      <th></th>\n",
       "      <th>1116</th>\n",
       "      <th>294</th>\n",
       "      <th>15</th>\n",
       "      <th>1122</th>\n",
       "      <th>396</th>\n",
       "      <th>564</th>\n",
       "      <th>1080</th>\n",
       "      <th>871</th>\n",
       "      <th>456</th>\n",
       "      <th>129</th>\n",
       "      <th>357</th>\n",
       "      <th>72</th>\n",
       "      <th>5</th>\n",
       "      <th>1226</th>\n",
       "      <th>721</th>\n",
       "      <th>287</th>\n",
       "      <th>103</th>\n",
       "      <th>208</th>\n",
       "    </tr>\n",
       "  </thead>\n",
       "  <tbody>\n",
       "    <tr>\n",
       "      <th>true</th>\n",
       "      <td>0</td>\n",
       "      <td>1</td>\n",
       "      <td>0</td>\n",
       "      <td>1</td>\n",
       "      <td>0</td>\n",
       "      <td>0</td>\n",
       "      <td>0</td>\n",
       "      <td>0</td>\n",
       "      <td>1</td>\n",
       "      <td>0</td>\n",
       "      <td>0</td>\n",
       "      <td>0</td>\n",
       "      <td>1</td>\n",
       "      <td>0</td>\n",
       "      <td>0</td>\n",
       "      <td>0</td>\n",
       "      <td>0</td>\n",
       "      <td>0</td>\n",
       "    </tr>\n",
       "    <tr>\n",
       "      <th>pred</th>\n",
       "      <td>0</td>\n",
       "      <td>0</td>\n",
       "      <td>0</td>\n",
       "      <td>1</td>\n",
       "      <td>0</td>\n",
       "      <td>0</td>\n",
       "      <td>0</td>\n",
       "      <td>1</td>\n",
       "      <td>1</td>\n",
       "      <td>0</td>\n",
       "      <td>0</td>\n",
       "      <td>0</td>\n",
       "      <td>1</td>\n",
       "      <td>1</td>\n",
       "      <td>0</td>\n",
       "      <td>0</td>\n",
       "      <td>0</td>\n",
       "      <td>0</td>\n",
       "    </tr>\n",
       "  </tbody>\n",
       "</table>\n",
       "</div>"
      ],
      "text/plain": [
       "      1116  294   15    1122  396   564   1080  871   456   129   357   72    \\\n",
       "true     0     1     0     1     0     0     0     0     1     0     0     0   \n",
       "pred     0     0     0     1     0     0     0     1     1     0     0     0   \n",
       "\n",
       "      5     1226  721   287   103   208   \n",
       "true     1     0     0     0     0     0  \n",
       "pred     1     1     0     0     0     0  "
      ]
     },
     "execution_count": 32,
     "metadata": {},
     "output_type": "execute_result"
    },
    {
     "data": {
      "image/png": "[encoded data removed]",
      "text/plain": [
       "<Figure size 720x720 with 2 Axes>"
      ]
     },
     "metadata": {},
     "output_type": "display_data"
    }
   ],
   "source": [
    "from sklearn.svm import LinearSVC # LinearSVC gave better results than regular SVM (with linear/rbf/poly kernel)\n",
    "\n",
    "clf = LinearSVC(random_state=42, class_weight='balanced', max_iter=3000, C=0.1) # add optimal C=0.1\n",
    "\n",
    "# \"class_weight='balanced'\": Set the parameter C of class i to [class_weight[i]*C] for SVC. \n",
    "# If not given, all classes are supposed to have weight one. The \"balanced\" mode uses the \n",
    "# values of y to automatically adjust weights inversely proportional to class frequencies \n",
    "# in the input data as [n_samples / (n_classes * np.bincount(y))].\n",
    "\n",
    "X = df.drop(columns=['id', 'label', 'target'])\n",
    "y = df.target\n",
    "\n",
    "# Split data into training, dev and test sets\n",
    "X_train, X_val, y_train, y_val = train_test_split(X, y, test_size=.10, stratify=y, random_state=42)\n",
    "print(X_train.shape, X_val.shape, y_train.shape, y_val.shape)\n",
    "\n",
    "scaler = StandardScaler()\n",
    "\n",
    "tfidf_vect = TfidfVectorizer(ngram_range=(1, 2), stop_words='english')\n",
    "#tfidf_char = TfidfVectorizer(ngram_range=(2, 2), analyzer='char', stop_words='english')\n",
    "#count_vect = CountVectorizer(ngram_range=(1, 3), stop_words='english')\n",
    "\n",
    "# We distribute the different columns to different preprocessing steps\n",
    "preprocessor = make_column_transformer(\n",
    "     (scaler, ['compound', 'neg', 'neu', 'pos']), # we scale numeric features\n",
    "     (scaler, ['prof', 'prof_prob']),\n",
    "     (tfidf_vect, 'clean'),\n",
    "#     (tfidf_char, 'clean'), # adding character information did not improve performance; same for CountVectorizer()\n",
    "    remainder = 'drop')\n",
    "\n",
    "svm_pipe = make_pipeline(preprocessor, clf)\n",
    "\n",
    "svm_pipe.fit(X_train, y_train)\n",
    "y_val_pred = svm_pipe.predict(X_val)\n",
    "\n",
    "print(classification_report(y_val, y_val_pred))\n",
    "\n",
    "cm = confusion_matrix(y_val, y_val_pred, labels=svm_pipe.classes_)\n",
    "disp = ConfusionMatrixDisplay(confusion_matrix=cm, display_labels=svm_pipe.classes_)\n",
    "\n",
    "fig, ax = plt.subplots(figsize=(10,10))\n",
    "disp.plot(ax=ax);\n",
    "\n",
    "truth = np.array(y_val)\n",
    "preds = np.array(y_val_pred)\n",
    "comps = pd.DataFrame({'true': truth, 'pred': list(preds)}, columns=['true', 'pred'])\n",
    "comps.sample(18).T"
   ]
  },
  {
   "cell_type": "markdown",
   "id": "d174ed9c",
   "metadata": {},
   "source": [
    "# Note that lowering the \"C\" parameter from 1.0 to 0.1 actually decreases model performance (see macro F1 & confusion matrix) after using grid-searched hyperparameters. Consequently, we use the previous LinearSVC with C=1.0 instead for out final submissions and all further comparisons:"
   ]
  },
  {
   "cell_type": "code",
   "execution_count": 33,
   "id": "a78dcfe7",
   "metadata": {},
   "outputs": [
    {
     "name": "stdout",
     "output_type": "stream",
     "text": [
      "(11916, 8) (1324, 8) (11916,) (1324,)\n",
      "              precision    recall  f1-score   support\n",
      "\n",
      "           0       0.82      0.83      0.83       884\n",
      "           1       0.65      0.64      0.65       440\n",
      "\n",
      "    accuracy                           0.77      1324\n",
      "   macro avg       0.74      0.73      0.74      1324\n",
      "weighted avg       0.77      0.77      0.77      1324\n",
      "\n"
     ]
    },
    {
     "data": {
      "text/html": [
       "<div>\n",
       "<style scoped>\n",
       "    .dataframe tbody tr th:only-of-type {\n",
       "        vertical-align: middle;\n",
       "    }\n",
       "\n",
       "    .dataframe tbody tr th {\n",
       "        vertical-align: top;\n",
       "    }\n",
       "\n",
       "    .dataframe thead th {\n",
       "        text-align: right;\n",
       "    }\n",
       "</style>\n",
       "<table border=\"1\" class=\"dataframe\">\n",
       "  <thead>\n",
       "    <tr style=\"text-align: right;\">\n",
       "      <th></th>\n",
       "      <th>1232</th>\n",
       "      <th>62</th>\n",
       "      <th>842</th>\n",
       "      <th>1315</th>\n",
       "      <th>516</th>\n",
       "      <th>191</th>\n",
       "      <th>515</th>\n",
       "      <th>79</th>\n",
       "      <th>403</th>\n",
       "      <th>227</th>\n",
       "      <th>551</th>\n",
       "      <th>144</th>\n",
       "      <th>605</th>\n",
       "      <th>721</th>\n",
       "      <th>334</th>\n",
       "      <th>931</th>\n",
       "      <th>1292</th>\n",
       "      <th>102</th>\n",
       "    </tr>\n",
       "  </thead>\n",
       "  <tbody>\n",
       "    <tr>\n",
       "      <th>true</th>\n",
       "      <td>0</td>\n",
       "      <td>0</td>\n",
       "      <td>0</td>\n",
       "      <td>1</td>\n",
       "      <td>0</td>\n",
       "      <td>1</td>\n",
       "      <td>0</td>\n",
       "      <td>0</td>\n",
       "      <td>0</td>\n",
       "      <td>0</td>\n",
       "      <td>0</td>\n",
       "      <td>1</td>\n",
       "      <td>0</td>\n",
       "      <td>0</td>\n",
       "      <td>0</td>\n",
       "      <td>0</td>\n",
       "      <td>0</td>\n",
       "      <td>0</td>\n",
       "    </tr>\n",
       "    <tr>\n",
       "      <th>pred</th>\n",
       "      <td>0</td>\n",
       "      <td>0</td>\n",
       "      <td>0</td>\n",
       "      <td>1</td>\n",
       "      <td>0</td>\n",
       "      <td>0</td>\n",
       "      <td>0</td>\n",
       "      <td>0</td>\n",
       "      <td>0</td>\n",
       "      <td>0</td>\n",
       "      <td>1</td>\n",
       "      <td>1</td>\n",
       "      <td>0</td>\n",
       "      <td>0</td>\n",
       "      <td>0</td>\n",
       "      <td>0</td>\n",
       "      <td>0</td>\n",
       "      <td>1</td>\n",
       "    </tr>\n",
       "  </tbody>\n",
       "</table>\n",
       "</div>"
      ],
      "text/plain": [
       "      1232  62    842   1315  516   191   515   79    403   227   551   144   \\\n",
       "true     0     0     0     1     0     1     0     0     0     0     0     1   \n",
       "pred     0     0     0     1     0     0     0     0     0     0     1     1   \n",
       "\n",
       "      605   721   334   931   1292  102   \n",
       "true     0     0     0     0     0     0  \n",
       "pred     0     0     0     0     0     1  "
      ]
     },
     "execution_count": 33,
     "metadata": {},
     "output_type": "execute_result"
    },
    {
     "data": {
      "image/png": "[encoded data removed]",
      "text/plain": [
       "<Figure size 720x720 with 2 Axes>"
      ]
     },
     "metadata": {},
     "output_type": "display_data"
    }
   ],
   "source": [
    "from sklearn.svm import LinearSVC # LinearSVC gave better results than regular SVM (with linear/rbf/poly kernel)\n",
    "\n",
    "clf = LinearSVC(random_state=42, class_weight='balanced', max_iter=3000) # max_iter=1500\n",
    "# \"class_weight='balanced'\": Set the parameter C of class i to [class_weight[i]*C] for SVC. \n",
    "# If not given, all classes are supposed to have weight one. The \"balanced\" mode uses the \n",
    "# values of y to automatically adjust weights inversely proportional to class frequencies \n",
    "# in the input data as [n_samples / (n_classes * np.bincount(y))].\n",
    "\n",
    "X = df.drop(columns=['id', 'label', 'target'])\n",
    "y = df.target\n",
    "\n",
    "# Split data into training, dev and test sets\n",
    "X_train, X_val, y_train, y_val = train_test_split(X, y, test_size=.10, stratify=y, random_state=42)\n",
    "print(X_train.shape, X_val.shape, y_train.shape, y_val.shape)\n",
    "\n",
    "scaler = StandardScaler()\n",
    "\n",
    "tfidf_vect = TfidfVectorizer(ngram_range=(1, 2), stop_words='english')\n",
    "#tfidf_char = TfidfVectorizer(ngram_range=(2, 2), analyzer='char', stop_words='english')\n",
    "#count_vect = CountVectorizer(ngram_range=(1, 3), stop_words='english')\n",
    "\n",
    "# We distribute the different columns to different preprocessing steps\n",
    "preprocessor = make_column_transformer(\n",
    "     (scaler, ['compound', 'neg', 'neu', 'pos']), # we scale numeric features\n",
    "     (scaler, ['prof', 'prof_prob']),\n",
    "     (tfidf_vect, 'clean'),\n",
    "#     (tfidf_char, 'clean'),\n",
    "    remainder = 'drop')\n",
    "\n",
    "svm_pipe = make_pipeline(preprocessor, clf)\n",
    "\n",
    "svm_pipe.fit(X_train, y_train)\n",
    "y_val_pred = svm_pipe.predict(X_val)\n",
    "\n",
    "print(classification_report(y_val, y_val_pred))\n",
    "\n",
    "cm = confusion_matrix(y_val, y_val_pred, labels=svm_pipe.classes_)\n",
    "disp = ConfusionMatrixDisplay(confusion_matrix=cm, display_labels=svm_pipe.classes_)\n",
    "\n",
    "fig, ax = plt.subplots(figsize=(10,10))\n",
    "disp.plot(ax=ax);\n",
    "\n",
    "truth = np.array(y_val)\n",
    "preds = np.array(y_val_pred)\n",
    "comps = pd.DataFrame({'true': truth, 'pred': list(preds)}, columns=['true', 'pred'])\n",
    "comps.sample(18).T"
   ]
  },
  {
   "cell_type": "code",
   "execution_count": 34,
   "id": "801f5ae4",
   "metadata": {},
   "outputs": [
    {
     "name": "stdout",
     "output_type": "stream",
     "text": [
      "              precision    recall  f1-score   support\n",
      "\n",
      "           0       0.82      0.83      0.83       884\n",
      "           1       0.65      0.64      0.65       440\n",
      "\n",
      "    accuracy                           0.77      1324\n",
      "   macro avg       0.74      0.73      0.74      1324\n",
      "weighted avg       0.77      0.77      0.77      1324\n",
      "\n"
     ]
    },
    {
     "data": {
      "image/png": "[encoded data removed]",
      "text/plain": [
       "<Figure size 864x360 with 2 Axes>"
      ]
     },
     "metadata": {},
     "output_type": "display_data"
    }
   ],
   "source": [
    "print(classification_report(y_val, y_val_pred))\n",
    "\n",
    "cm = confusion_matrix(y_val, y_val_pred, labels=svm_pipe.classes_)\n",
    "\n",
    "group_names = ['True Neg','False Pos','False Neg','True Pos']\n",
    "\n",
    "group_counts = [\"{0:0.0f}\".format(value) for value in\n",
    "                cm.flatten()]\n",
    "\n",
    "group_percentages = [\"{0:.2%}\".format(value) for value in\n",
    "                     cm.flatten()/np.sum(cm)]\n",
    "\n",
    "labels = [f\"{v1}\\n{v2}\\n{v3}\" for v1, v2, v3 in\n",
    "          zip(group_names,group_counts,group_percentages)]\n",
    "\n",
    "labels = np.asarray(labels).reshape(2,2)\n",
    "\n",
    "ax = sns.heatmap(cm, annot=labels, fmt='', cmap='Blues')\n",
    "\n",
    "ax.set_title('LinearSVC: Best Traditional Model on a 10% held-out Validation Set \\n\\n');\n",
    "ax.set_xlabel('\\nPredicted Label')\n",
    "ax.set_ylabel('True Label');\n",
    "\n",
    "## Ticket labels - List must be in alphabetical order\n",
    "ax.xaxis.set_ticklabels(['NOT','OFF'])\n",
    "ax.yaxis.set_ticklabels(['NOT','OFF'])\n",
    "\n",
    "plt.savefig('LinearSVC_on_validation.png', bbox_inches=\"tight\")\n",
    "\n",
    "## Display the visualization of the Confusion Matrix.\n",
    "plt.show();"
   ]
  },
  {
   "cell_type": "code",
   "execution_count": 35,
   "id": "8b482b31",
   "metadata": {},
   "outputs": [
    {
     "data": {
      "text/plain": [
       "0.736063791228706"
      ]
     },
     "execution_count": 35,
     "metadata": {},
     "output_type": "execute_result"
    }
   ],
   "source": [
    "from sklearn.metrics import f1_score\n",
    "F1 = f1_score(y_val, y_val_pred, average='macro')\n",
    "F1"
   ]
  },
  {
   "cell_type": "code",
   "execution_count": 36,
   "id": "42b87986",
   "metadata": {},
   "outputs": [
    {
     "data": {
      "text/plain": [
       "0.03600000000000003"
      ]
     },
     "execution_count": 36,
     "metadata": {},
     "output_type": "execute_result"
    }
   ],
   "source": [
    "# Macro F1-score difference between BERT w/o preprocessing (see neural notebook) & traditional SVM model (see above)\n",
    "0.772 - 0.736"
   ]
  },
  {
   "cell_type": "code",
   "execution_count": null,
   "id": "f4dfd1b6",
   "metadata": {},
   "outputs": [],
   "source": []
  },
  {
   "cell_type": "markdown",
   "id": "cb203074",
   "metadata": {},
   "source": [
    "# Predictions on test sets"
   ]
  },
  {
   "cell_type": "markdown",
   "id": "7147d72e",
   "metadata": {},
   "source": [
    "## test_IN_traditional"
   ]
  },
  {
   "cell_type": "code",
   "execution_count": 37,
   "id": "af6db59d",
   "metadata": {},
   "outputs": [
    {
     "data": {
      "text/html": [
       "<div>\n",
       "<style scoped>\n",
       "    .dataframe tbody tr th:only-of-type {\n",
       "        vertical-align: middle;\n",
       "    }\n",
       "\n",
       "    .dataframe tbody tr th {\n",
       "        vertical-align: top;\n",
       "    }\n",
       "\n",
       "    .dataframe thead th {\n",
       "        text-align: right;\n",
       "    }\n",
       "</style>\n",
       "<table border=\"1\" class=\"dataframe\">\n",
       "  <thead>\n",
       "    <tr style=\"text-align: right;\">\n",
       "      <th></th>\n",
       "      <th>id</th>\n",
       "      <th>tweet</th>\n",
       "    </tr>\n",
       "  </thead>\n",
       "  <tbody>\n",
       "    <tr>\n",
       "      <th>0</th>\n",
       "      <td>15923</td>\n",
       "      <td>#WhoIsQ #WheresTheServer #DumpNike #DECLASFISA...</td>\n",
       "    </tr>\n",
       "    <tr>\n",
       "      <th>1</th>\n",
       "      <td>27014</td>\n",
       "      <td>#ConstitutionDay is revered by Conservatives, ...</td>\n",
       "    </tr>\n",
       "    <tr>\n",
       "      <th>2</th>\n",
       "      <td>30530</td>\n",
       "      <td>#FOXNews #NRA #MAGA #POTUS #TRUMP #2ndAmendmen...</td>\n",
       "    </tr>\n",
       "    <tr>\n",
       "      <th>3</th>\n",
       "      <td>13876</td>\n",
       "      <td>#Watching #Boomer getting the news that she is...</td>\n",
       "    </tr>\n",
       "    <tr>\n",
       "      <th>4</th>\n",
       "      <td>60133</td>\n",
       "      <td>#NoPasaran: Unity demo to oppose the far-right...</td>\n",
       "    </tr>\n",
       "  </tbody>\n",
       "</table>\n",
       "</div>"
      ],
      "text/plain": [
       "      id                                              tweet\n",
       "0  15923  #WhoIsQ #WheresTheServer #DumpNike #DECLASFISA...\n",
       "1  27014  #ConstitutionDay is revered by Conservatives, ...\n",
       "2  30530  #FOXNews #NRA #MAGA #POTUS #TRUMP #2ndAmendmen...\n",
       "3  13876  #Watching #Boomer getting the news that she is...\n",
       "4  60133  #NoPasaran: Unity demo to oppose the far-right..."
      ]
     },
     "execution_count": 37,
     "metadata": {},
     "output_type": "execute_result"
    }
   ],
   "source": [
    "data_path = 'test_data/test_IN.csv'\n",
    "test_IN = pd.read_csv(data_path, delimiter=',', encoding='utf-8')\n",
    "test_IN.head()"
   ]
  },
  {
   "cell_type": "code",
   "execution_count": 38,
   "id": "fc2e820e",
   "metadata": {
    "scrolled": true
   },
   "outputs": [
    {
     "data": {
      "text/html": [
       "<div>\n",
       "<style scoped>\n",
       "    .dataframe tbody tr th:only-of-type {\n",
       "        vertical-align: middle;\n",
       "    }\n",
       "\n",
       "    .dataframe tbody tr th {\n",
       "        vertical-align: top;\n",
       "    }\n",
       "\n",
       "    .dataframe thead th {\n",
       "        text-align: right;\n",
       "    }\n",
       "</style>\n",
       "<table border=\"1\" class=\"dataframe\">\n",
       "  <thead>\n",
       "    <tr style=\"text-align: right;\">\n",
       "      <th></th>\n",
       "      <th>id</th>\n",
       "      <th>text</th>\n",
       "    </tr>\n",
       "  </thead>\n",
       "  <tbody>\n",
       "    <tr>\n",
       "      <th>0</th>\n",
       "      <td>15923</td>\n",
       "      <td>#WhoIsQ #WheresTheServer #DumpNike #DECLASFISA...</td>\n",
       "    </tr>\n",
       "    <tr>\n",
       "      <th>1</th>\n",
       "      <td>27014</td>\n",
       "      <td>#ConstitutionDay is revered by Conservatives, ...</td>\n",
       "    </tr>\n",
       "    <tr>\n",
       "      <th>2</th>\n",
       "      <td>30530</td>\n",
       "      <td>#FOXNews #NRA #MAGA #POTUS #TRUMP #2ndAmendmen...</td>\n",
       "    </tr>\n",
       "    <tr>\n",
       "      <th>3</th>\n",
       "      <td>13876</td>\n",
       "      <td>#Watching #Boomer getting the news that she is...</td>\n",
       "    </tr>\n",
       "    <tr>\n",
       "      <th>4</th>\n",
       "      <td>60133</td>\n",
       "      <td>#NoPasaran: Unity demo to oppose the far-right...</td>\n",
       "    </tr>\n",
       "  </tbody>\n",
       "</table>\n",
       "</div>"
      ],
      "text/plain": [
       "      id                                               text\n",
       "0  15923  #WhoIsQ #WheresTheServer #DumpNike #DECLASFISA...\n",
       "1  27014  #ConstitutionDay is revered by Conservatives, ...\n",
       "2  30530  #FOXNews #NRA #MAGA #POTUS #TRUMP #2ndAmendmen...\n",
       "3  13876  #Watching #Boomer getting the news that she is...\n",
       "4  60133  #NoPasaran: Unity demo to oppose the far-right..."
      ]
     },
     "execution_count": 38,
     "metadata": {},
     "output_type": "execute_result"
    }
   ],
   "source": [
    "test_IN.rename({'tweet': 'text'}, axis=1, inplace=True) # rename columns if necessary\n",
    "test_IN.head()"
   ]
  },
  {
   "cell_type": "code",
   "execution_count": 39,
   "id": "c3d23b26",
   "metadata": {},
   "outputs": [
    {
     "data": {
      "text/plain": [
       "(860, 2)"
      ]
     },
     "execution_count": 39,
     "metadata": {},
     "output_type": "execute_result"
    }
   ],
   "source": [
    "test_IN.shape"
   ]
  },
  {
   "cell_type": "code",
   "execution_count": 40,
   "id": "4ff912fc",
   "metadata": {},
   "outputs": [
    {
     "data": {
      "text/plain": [
       "id      0\n",
       "text    0\n",
       "dtype: int64"
      ]
     },
     "execution_count": 40,
     "metadata": {},
     "output_type": "execute_result"
    }
   ],
   "source": [
    "# Check for missing values\n",
    "test_IN.isnull().sum()"
   ]
  },
  {
   "cell_type": "code",
   "execution_count": 41,
   "id": "5e84eb6a",
   "metadata": {},
   "outputs": [
    {
     "data": {
      "text/plain": [
       "0"
      ]
     },
     "execution_count": 41,
     "metadata": {},
     "output_type": "execute_result"
    }
   ],
   "source": [
    "# Check for duplicates\n",
    "test_IN.duplicated().sum()"
   ]
  },
  {
   "cell_type": "code",
   "execution_count": 42,
   "id": "7448dc75",
   "metadata": {
    "scrolled": true
   },
   "outputs": [
    {
     "data": {
      "text/html": [
       "<div>\n",
       "<style scoped>\n",
       "    .dataframe tbody tr th:only-of-type {\n",
       "        vertical-align: middle;\n",
       "    }\n",
       "\n",
       "    .dataframe tbody tr th {\n",
       "        vertical-align: top;\n",
       "    }\n",
       "\n",
       "    .dataframe thead th {\n",
       "        text-align: right;\n",
       "    }\n",
       "</style>\n",
       "<table border=\"1\" class=\"dataframe\">\n",
       "  <thead>\n",
       "    <tr style=\"text-align: right;\">\n",
       "      <th></th>\n",
       "      <th>id</th>\n",
       "      <th>text</th>\n",
       "      <th>compound</th>\n",
       "      <th>neg</th>\n",
       "      <th>neu</th>\n",
       "      <th>pos</th>\n",
       "      <th>prof</th>\n",
       "      <th>prof_prob</th>\n",
       "      <th>clean</th>\n",
       "    </tr>\n",
       "  </thead>\n",
       "  <tbody>\n",
       "    <tr>\n",
       "      <th>0</th>\n",
       "      <td>15923</td>\n",
       "      <td>#WhoIsQ #WheresTheServer #DumpNike #DECLASFISA...</td>\n",
       "      <td>-0.8260</td>\n",
       "      <td>0.288</td>\n",
       "      <td>0.638</td>\n",
       "      <td>0.075</td>\n",
       "      <td>0</td>\n",
       "      <td>0.208122</td>\n",
       "      <td>whoisq wherestheserver dumpnike declasfisa dem...</td>\n",
       "    </tr>\n",
       "    <tr>\n",
       "      <th>1</th>\n",
       "      <td>27014</td>\n",
       "      <td>#ConstitutionDay is revered by Conservatives, ...</td>\n",
       "      <td>-0.1531</td>\n",
       "      <td>0.223</td>\n",
       "      <td>0.532</td>\n",
       "      <td>0.245</td>\n",
       "      <td>0</td>\n",
       "      <td>0.112562</td>\n",
       "      <td>constitutionday revered conservative hated pro...</td>\n",
       "    </tr>\n",
       "    <tr>\n",
       "      <th>2</th>\n",
       "      <td>30530</td>\n",
       "      <td>#FOXNews #NRA #MAGA #POTUS #TRUMP #2ndAmendmen...</td>\n",
       "      <td>0.0000</td>\n",
       "      <td>0.000</td>\n",
       "      <td>1.000</td>\n",
       "      <td>0.000</td>\n",
       "      <td>0</td>\n",
       "      <td>0.037259</td>\n",
       "      <td>foxnews nra maga potus trump ndamendment rnc u...</td>\n",
       "    </tr>\n",
       "    <tr>\n",
       "      <th>3</th>\n",
       "      <td>13876</td>\n",
       "      <td>#Watching #Boomer getting the news that she is...</td>\n",
       "      <td>0.5719</td>\n",
       "      <td>0.000</td>\n",
       "      <td>0.810</td>\n",
       "      <td>0.190</td>\n",
       "      <td>0</td>\n",
       "      <td>0.025649</td>\n",
       "      <td>watching boomer getting news still parole alwa...</td>\n",
       "    </tr>\n",
       "    <tr>\n",
       "      <th>4</th>\n",
       "      <td>60133</td>\n",
       "      <td>#NoPasaran: Unity demo to oppose the far-right...</td>\n",
       "      <td>0.0000</td>\n",
       "      <td>0.000</td>\n",
       "      <td>1.000</td>\n",
       "      <td>0.000</td>\n",
       "      <td>0</td>\n",
       "      <td>0.021940</td>\n",
       "      <td>nopasaran unity demo oppose far right london a...</td>\n",
       "    </tr>\n",
       "  </tbody>\n",
       "</table>\n",
       "</div>"
      ],
      "text/plain": [
       "      id                                               text  compound    neg  \\\n",
       "0  15923  #WhoIsQ #WheresTheServer #DumpNike #DECLASFISA...   -0.8260  0.288   \n",
       "1  27014  #ConstitutionDay is revered by Conservatives, ...   -0.1531  0.223   \n",
       "2  30530  #FOXNews #NRA #MAGA #POTUS #TRUMP #2ndAmendmen...    0.0000  0.000   \n",
       "3  13876  #Watching #Boomer getting the news that she is...    0.5719  0.000   \n",
       "4  60133  #NoPasaran: Unity demo to oppose the far-right...    0.0000  0.000   \n",
       "\n",
       "     neu    pos  prof  prof_prob  \\\n",
       "0  0.638  0.075     0   0.208122   \n",
       "1  0.532  0.245     0   0.112562   \n",
       "2  1.000  0.000     0   0.037259   \n",
       "3  0.810  0.190     0   0.025649   \n",
       "4  1.000  0.000     0   0.021940   \n",
       "\n",
       "                                               clean  \n",
       "0  whoisq wherestheserver dumpnike declasfisa dem...  \n",
       "1  constitutionday revered conservative hated pro...  \n",
       "2  foxnews nra maga potus trump ndamendment rnc u...  \n",
       "3  watching boomer getting news still parole alwa...  \n",
       "4  nopasaran unity demo oppose far right london a...  "
      ]
     },
     "execution_count": 42,
     "metadata": {},
     "output_type": "execute_result"
    }
   ],
   "source": [
    "# Feature extraction > Preprocessing\n",
    "\n",
    "test_IN['compound'] = [analyzer.polarity_scores(x)['compound'] for x in test_IN['text']]\n",
    "test_IN['neg'] = [analyzer.polarity_scores(x)['neg'] for x in test_IN['text']]\n",
    "test_IN['neu'] = [analyzer.polarity_scores(x)['neu'] for x in test_IN['text']]\n",
    "test_IN['pos'] = [analyzer.polarity_scores(x)['pos'] for x in test_IN['text']]\n",
    "test_IN.head()\n",
    "\n",
    "test_IN['prof'] = predict(test_IN['text'])\n",
    "test_IN['prof_prob'] = predict_prob(test_IN['text'])\n",
    "test_IN.head()\n",
    "\n",
    "test_IN['clean'] = test_IN['text'].apply(lambda x: clean(x))\n",
    "test_IN.head()"
   ]
  },
  {
   "cell_type": "code",
   "execution_count": 43,
   "id": "3888900e",
   "metadata": {
    "scrolled": false
   },
   "outputs": [
    {
     "name": "stderr",
     "output_type": "stream",
     "text": [
      "<ipython-input-43-243935cd9fea>:3: SettingWithCopyWarning: \n",
      "A value is trying to be set on a copy of a slice from a DataFrame.\n",
      "Try using .loc[row_indexer,col_indexer] = value instead\n",
      "\n",
      "See the caveats in the documentation: https://pandas.pydata.org/pandas-docs/stable/user_guide/indexing.html#returning-a-view-versus-a-copy\n",
      "  test_IN_traditional['label'] = test_IN_traditional.label.map({0 : 'NOT', 1: 'OFF'})\n"
     ]
    },
    {
     "data": {
      "text/html": [
       "<div>\n",
       "<style scoped>\n",
       "    .dataframe tbody tr th:only-of-type {\n",
       "        vertical-align: middle;\n",
       "    }\n",
       "\n",
       "    .dataframe tbody tr th {\n",
       "        vertical-align: top;\n",
       "    }\n",
       "\n",
       "    .dataframe thead th {\n",
       "        text-align: right;\n",
       "    }\n",
       "</style>\n",
       "<table border=\"1\" class=\"dataframe\">\n",
       "  <thead>\n",
       "    <tr style=\"text-align: right;\">\n",
       "      <th></th>\n",
       "      <th>id</th>\n",
       "      <th>label</th>\n",
       "    </tr>\n",
       "  </thead>\n",
       "  <tbody>\n",
       "    <tr>\n",
       "      <th>0</th>\n",
       "      <td>15923</td>\n",
       "      <td>OFF</td>\n",
       "    </tr>\n",
       "    <tr>\n",
       "      <th>1</th>\n",
       "      <td>27014</td>\n",
       "      <td>NOT</td>\n",
       "    </tr>\n",
       "    <tr>\n",
       "      <th>2</th>\n",
       "      <td>30530</td>\n",
       "      <td>NOT</td>\n",
       "    </tr>\n",
       "    <tr>\n",
       "      <th>3</th>\n",
       "      <td>13876</td>\n",
       "      <td>NOT</td>\n",
       "    </tr>\n",
       "    <tr>\n",
       "      <th>4</th>\n",
       "      <td>60133</td>\n",
       "      <td>NOT</td>\n",
       "    </tr>\n",
       "  </tbody>\n",
       "</table>\n",
       "</div>"
      ],
      "text/plain": [
       "      id label\n",
       "0  15923   OFF\n",
       "1  27014   NOT\n",
       "2  30530   NOT\n",
       "3  13876   NOT\n",
       "4  60133   NOT"
      ]
     },
     "execution_count": 43,
     "metadata": {},
     "output_type": "execute_result"
    }
   ],
   "source": [
    "test_IN['label'] = svm_pipe.predict(test_IN)\n",
    "test_IN_traditional = test_IN[['id', 'label']]\n",
    "test_IN_traditional['label'] = test_IN_traditional.label.map({0 : 'NOT', 1: 'OFF'}) \n",
    "test_IN_traditional.head()"
   ]
  },
  {
   "cell_type": "code",
   "execution_count": 44,
   "id": "54c7a48b",
   "metadata": {},
   "outputs": [
    {
     "data": {
      "text/plain": [
       "(860, 2)"
      ]
     },
     "execution_count": 44,
     "metadata": {},
     "output_type": "execute_result"
    }
   ],
   "source": [
    "test_IN_traditional.shape"
   ]
  },
  {
   "cell_type": "code",
   "execution_count": 45,
   "id": "c4d627bc",
   "metadata": {},
   "outputs": [
    {
     "data": {
      "text/plain": [
       "NOT    653\n",
       "OFF    207\n",
       "Name: label, dtype: int64"
      ]
     },
     "execution_count": 45,
     "metadata": {},
     "output_type": "execute_result"
    }
   ],
   "source": [
    "test_IN_traditional.label.value_counts()"
   ]
  },
  {
   "cell_type": "code",
   "execution_count": 46,
   "id": "71a3c597",
   "metadata": {},
   "outputs": [],
   "source": [
    "#test_IN_traditional.to_csv('test_IN_traditional.csv', index=False)"
   ]
  },
  {
   "cell_type": "code",
   "execution_count": 47,
   "id": "66d042d8",
   "metadata": {},
   "outputs": [
    {
     "name": "stdout",
     "output_type": "stream",
     "text": [
      "              precision    recall  f1-score   support\n",
      "\n",
      "         NOT       0.86      0.90      0.88       620\n",
      "         OFF       0.71      0.61      0.66       240\n",
      "\n",
      "    accuracy                           0.82       860\n",
      "   macro avg       0.78      0.76      0.77       860\n",
      "weighted avg       0.82      0.82      0.82       860\n",
      "\n"
     ]
    },
    {
     "data": {
      "image/png": "[encoded data removed]",
      "text/plain": [
       "<Figure size 864x360 with 2 Axes>"
      ]
     },
     "metadata": {},
     "output_type": "display_data"
    }
   ],
   "source": [
    "test_SET_gold = pd.read_csv('labels/test_IN_gold.csv', delimiter=',', encoding='utf-8')\n",
    "test_SET_traditional = pd.read_csv('test_IN_traditional.csv', delimiter=',', encoding='utf-8')\n",
    "\n",
    "y_val = list(test_SET_gold.label)\n",
    "y_val_pred = list(test_SET_traditional.label)\n",
    "\n",
    "print(classification_report(y_val, y_val_pred))\n",
    "\n",
    "cm = confusion_matrix(y_val, y_val_pred)\n",
    "\n",
    "group_names = ['True Neg','False Pos','False Neg','True Pos']\n",
    "\n",
    "group_counts = [\"{0:0.0f}\".format(value) for value in\n",
    "                cm.flatten()]\n",
    "\n",
    "group_percentages = [\"{0:.2%}\".format(value) for value in\n",
    "                     cm.flatten()/np.sum(cm)]\n",
    "\n",
    "labels = [f\"{v1}\\n{v2}\\n{v3}\" for v1, v2, v3 in\n",
    "          zip(group_names,group_counts,group_percentages)]\n",
    "\n",
    "labels = np.asarray(labels).reshape(2,2)\n",
    "\n",
    "ax = sns.heatmap(cm, annot=labels, fmt='', cmap='Blues')\n",
    "\n",
    "ax.set_title('Traditional on Offensive Language Identification (OLID) Testset \\n\\n');\n",
    "ax.set_xlabel('\\nPredicted Label')\n",
    "ax.set_ylabel('True Label');\n",
    "\n",
    "## Ticket labels - List must be in alphabetical order\n",
    "ax.xaxis.set_ticklabels(['NOT','OFF'])\n",
    "ax.yaxis.set_ticklabels(['NOT','OFF'])\n",
    "\n",
    "plt.savefig('LinearSVC_on_test_OLID.png', bbox_inches=\"tight\")\n",
    "\n",
    "## Display the visualization of the Confusion Matrix.\n",
    "plt.show();"
   ]
  },
  {
   "cell_type": "code",
   "execution_count": null,
   "id": "182c1b7c",
   "metadata": {},
   "outputs": [],
   "source": []
  },
  {
   "cell_type": "markdown",
   "id": "84a3dcb5",
   "metadata": {},
   "source": [
    "## test_OUT1_traditional"
   ]
  },
  {
   "cell_type": "code",
   "execution_count": 48,
   "id": "7892e63f",
   "metadata": {},
   "outputs": [
    {
     "data": {
      "text/html": [
       "<div>\n",
       "<style scoped>\n",
       "    .dataframe tbody tr th:only-of-type {\n",
       "        vertical-align: middle;\n",
       "    }\n",
       "\n",
       "    .dataframe tbody tr th {\n",
       "        vertical-align: top;\n",
       "    }\n",
       "\n",
       "    .dataframe thead th {\n",
       "        text-align: right;\n",
       "    }\n",
       "</style>\n",
       "<table border=\"1\" class=\"dataframe\">\n",
       "  <thead>\n",
       "    <tr style=\"text-align: right;\">\n",
       "      <th></th>\n",
       "      <th>id</th>\n",
       "      <th>tweet</th>\n",
       "    </tr>\n",
       "  </thead>\n",
       "  <tbody>\n",
       "    <tr>\n",
       "      <th>0</th>\n",
       "      <td>37</td>\n",
       "      <td>Maybe it could have something to do with the r...</td>\n",
       "    </tr>\n",
       "    <tr>\n",
       "      <th>1</th>\n",
       "      <td>127</td>\n",
       "      <td>Weirdly enough, i think about this fairly freq...</td>\n",
       "    </tr>\n",
       "    <tr>\n",
       "      <th>2</th>\n",
       "      <td>143</td>\n",
       "      <td>Your idea (while posing a real problem with et...</td>\n",
       "    </tr>\n",
       "    <tr>\n",
       "      <th>3</th>\n",
       "      <td>146</td>\n",
       "      <td>&gt;it will encourage a part of the people you ba...</td>\n",
       "    </tr>\n",
       "    <tr>\n",
       "      <th>4</th>\n",
       "      <td>186</td>\n",
       "      <td>If something like this could make someone supp...</td>\n",
       "    </tr>\n",
       "  </tbody>\n",
       "</table>\n",
       "</div>"
      ],
      "text/plain": [
       "    id                                              tweet\n",
       "0   37  Maybe it could have something to do with the r...\n",
       "1  127  Weirdly enough, i think about this fairly freq...\n",
       "2  143  Your idea (while posing a real problem with et...\n",
       "3  146  >it will encourage a part of the people you ba...\n",
       "4  186  If something like this could make someone supp..."
      ]
     },
     "execution_count": 48,
     "metadata": {},
     "output_type": "execute_result"
    }
   ],
   "source": [
    "data_path = 'test_data/test_OUT1.csv'\n",
    "test_OUT1 = pd.read_csv(data_path, delimiter=',', encoding='utf-8')\n",
    "test_OUT1.head()"
   ]
  },
  {
   "cell_type": "code",
   "execution_count": 49,
   "id": "c692a343",
   "metadata": {
    "scrolled": true
   },
   "outputs": [
    {
     "data": {
      "text/html": [
       "<div>\n",
       "<style scoped>\n",
       "    .dataframe tbody tr th:only-of-type {\n",
       "        vertical-align: middle;\n",
       "    }\n",
       "\n",
       "    .dataframe tbody tr th {\n",
       "        vertical-align: top;\n",
       "    }\n",
       "\n",
       "    .dataframe thead th {\n",
       "        text-align: right;\n",
       "    }\n",
       "</style>\n",
       "<table border=\"1\" class=\"dataframe\">\n",
       "  <thead>\n",
       "    <tr style=\"text-align: right;\">\n",
       "      <th></th>\n",
       "      <th>id</th>\n",
       "      <th>text</th>\n",
       "    </tr>\n",
       "  </thead>\n",
       "  <tbody>\n",
       "    <tr>\n",
       "      <th>0</th>\n",
       "      <td>37</td>\n",
       "      <td>Maybe it could have something to do with the r...</td>\n",
       "    </tr>\n",
       "    <tr>\n",
       "      <th>1</th>\n",
       "      <td>127</td>\n",
       "      <td>Weirdly enough, i think about this fairly freq...</td>\n",
       "    </tr>\n",
       "    <tr>\n",
       "      <th>2</th>\n",
       "      <td>143</td>\n",
       "      <td>Your idea (while posing a real problem with et...</td>\n",
       "    </tr>\n",
       "    <tr>\n",
       "      <th>3</th>\n",
       "      <td>146</td>\n",
       "      <td>&gt;it will encourage a part of the people you ba...</td>\n",
       "    </tr>\n",
       "    <tr>\n",
       "      <th>4</th>\n",
       "      <td>186</td>\n",
       "      <td>If something like this could make someone supp...</td>\n",
       "    </tr>\n",
       "  </tbody>\n",
       "</table>\n",
       "</div>"
      ],
      "text/plain": [
       "    id                                               text\n",
       "0   37  Maybe it could have something to do with the r...\n",
       "1  127  Weirdly enough, i think about this fairly freq...\n",
       "2  143  Your idea (while posing a real problem with et...\n",
       "3  146  >it will encourage a part of the people you ba...\n",
       "4  186  If something like this could make someone supp..."
      ]
     },
     "execution_count": 49,
     "metadata": {},
     "output_type": "execute_result"
    }
   ],
   "source": [
    "test_OUT1.rename({'tweet': 'text'}, axis=1, inplace=True) # rename columns if necessary\n",
    "test_OUT1.head()"
   ]
  },
  {
   "cell_type": "code",
   "execution_count": 50,
   "id": "e3637e9b",
   "metadata": {},
   "outputs": [
    {
     "data": {
      "text/plain": [
       "(1207, 2)"
      ]
     },
     "execution_count": 50,
     "metadata": {},
     "output_type": "execute_result"
    }
   ],
   "source": [
    "test_OUT1.shape"
   ]
  },
  {
   "cell_type": "code",
   "execution_count": 51,
   "id": "21a4e888",
   "metadata": {},
   "outputs": [
    {
     "data": {
      "text/plain": [
       "id      0\n",
       "text    0\n",
       "dtype: int64"
      ]
     },
     "execution_count": 51,
     "metadata": {},
     "output_type": "execute_result"
    }
   ],
   "source": [
    "# Check for missing values\n",
    "test_OUT1.isnull().sum()"
   ]
  },
  {
   "cell_type": "code",
   "execution_count": 52,
   "id": "30e43d23",
   "metadata": {},
   "outputs": [
    {
     "data": {
      "text/plain": [
       "0"
      ]
     },
     "execution_count": 52,
     "metadata": {},
     "output_type": "execute_result"
    }
   ],
   "source": [
    "# Check for duplicates\n",
    "test_OUT1.duplicated().sum()"
   ]
  },
  {
   "cell_type": "code",
   "execution_count": 53,
   "id": "ee9b960f",
   "metadata": {
    "scrolled": true
   },
   "outputs": [
    {
     "data": {
      "text/html": [
       "<div>\n",
       "<style scoped>\n",
       "    .dataframe tbody tr th:only-of-type {\n",
       "        vertical-align: middle;\n",
       "    }\n",
       "\n",
       "    .dataframe tbody tr th {\n",
       "        vertical-align: top;\n",
       "    }\n",
       "\n",
       "    .dataframe thead th {\n",
       "        text-align: right;\n",
       "    }\n",
       "</style>\n",
       "<table border=\"1\" class=\"dataframe\">\n",
       "  <thead>\n",
       "    <tr style=\"text-align: right;\">\n",
       "      <th></th>\n",
       "      <th>id</th>\n",
       "      <th>text</th>\n",
       "      <th>compound</th>\n",
       "      <th>neg</th>\n",
       "      <th>neu</th>\n",
       "      <th>pos</th>\n",
       "      <th>prof</th>\n",
       "      <th>prof_prob</th>\n",
       "      <th>clean</th>\n",
       "    </tr>\n",
       "  </thead>\n",
       "  <tbody>\n",
       "    <tr>\n",
       "      <th>0</th>\n",
       "      <td>37</td>\n",
       "      <td>Maybe it could have something to do with the r...</td>\n",
       "      <td>0.4588</td>\n",
       "      <td>0.047</td>\n",
       "      <td>0.819</td>\n",
       "      <td>0.134</td>\n",
       "      <td>0</td>\n",
       "      <td>0.076122</td>\n",
       "      <td>maybe could something recent trend feminist sa...</td>\n",
       "    </tr>\n",
       "    <tr>\n",
       "      <th>1</th>\n",
       "      <td>127</td>\n",
       "      <td>Weirdly enough, i think about this fairly freq...</td>\n",
       "      <td>-0.8218</td>\n",
       "      <td>0.259</td>\n",
       "      <td>0.696</td>\n",
       "      <td>0.045</td>\n",
       "      <td>1</td>\n",
       "      <td>0.906738</td>\n",
       "      <td>weirdly enough think fairly frequently would h...</td>\n",
       "    </tr>\n",
       "    <tr>\n",
       "      <th>2</th>\n",
       "      <td>143</td>\n",
       "      <td>Your idea (while posing a real problem with et...</td>\n",
       "      <td>-0.9287</td>\n",
       "      <td>0.226</td>\n",
       "      <td>0.666</td>\n",
       "      <td>0.108</td>\n",
       "      <td>0</td>\n",
       "      <td>0.279921</td>\n",
       "      <td>idea posing real problem ethic work provokes t...</td>\n",
       "    </tr>\n",
       "    <tr>\n",
       "      <th>3</th>\n",
       "      <td>146</td>\n",
       "      <td>&gt;it will encourage a part of the people you ba...</td>\n",
       "      <td>-0.9854</td>\n",
       "      <td>0.338</td>\n",
       "      <td>0.551</td>\n",
       "      <td>0.111</td>\n",
       "      <td>0</td>\n",
       "      <td>0.489611</td>\n",
       "      <td>encourage part people ban join terrorist peopl...</td>\n",
       "    </tr>\n",
       "    <tr>\n",
       "      <th>4</th>\n",
       "      <td>186</td>\n",
       "      <td>If something like this could make someone supp...</td>\n",
       "      <td>-0.1280</td>\n",
       "      <td>0.238</td>\n",
       "      <td>0.544</td>\n",
       "      <td>0.218</td>\n",
       "      <td>0</td>\n",
       "      <td>0.074159</td>\n",
       "      <td>something like could make someone support isi ...</td>\n",
       "    </tr>\n",
       "  </tbody>\n",
       "</table>\n",
       "</div>"
      ],
      "text/plain": [
       "    id                                               text  compound    neg  \\\n",
       "0   37  Maybe it could have something to do with the r...    0.4588  0.047   \n",
       "1  127  Weirdly enough, i think about this fairly freq...   -0.8218  0.259   \n",
       "2  143  Your idea (while posing a real problem with et...   -0.9287  0.226   \n",
       "3  146  >it will encourage a part of the people you ba...   -0.9854  0.338   \n",
       "4  186  If something like this could make someone supp...   -0.1280  0.238   \n",
       "\n",
       "     neu    pos  prof  prof_prob  \\\n",
       "0  0.819  0.134     0   0.076122   \n",
       "1  0.696  0.045     1   0.906738   \n",
       "2  0.666  0.108     0   0.279921   \n",
       "3  0.551  0.111     0   0.489611   \n",
       "4  0.544  0.218     0   0.074159   \n",
       "\n",
       "                                               clean  \n",
       "0  maybe could something recent trend feminist sa...  \n",
       "1  weirdly enough think fairly frequently would h...  \n",
       "2  idea posing real problem ethic work provokes t...  \n",
       "3  encourage part people ban join terrorist peopl...  \n",
       "4  something like could make someone support isi ...  "
      ]
     },
     "execution_count": 53,
     "metadata": {},
     "output_type": "execute_result"
    }
   ],
   "source": [
    "# Feature extraction > Preprocessing\n",
    "\n",
    "test_OUT1['compound'] = [analyzer.polarity_scores(x)['compound'] for x in test_OUT1['text']]\n",
    "test_OUT1['neg'] = [analyzer.polarity_scores(x)['neg'] for x in test_OUT1['text']]\n",
    "test_OUT1['neu'] = [analyzer.polarity_scores(x)['neu'] for x in test_OUT1['text']]\n",
    "test_OUT1['pos'] = [analyzer.polarity_scores(x)['pos'] for x in test_OUT1['text']]\n",
    "\n",
    "test_OUT1['prof'] = predict(test_OUT1['text'])\n",
    "test_OUT1['prof_prob'] = predict_prob(test_OUT1['text'])\n",
    "\n",
    "test_OUT1['clean'] = test_OUT1['text'].apply(lambda x: clean(x))\n",
    "test_OUT1.head()"
   ]
  },
  {
   "cell_type": "code",
   "execution_count": 54,
   "id": "28964bd3",
   "metadata": {
    "scrolled": false
   },
   "outputs": [
    {
     "name": "stderr",
     "output_type": "stream",
     "text": [
      "<ipython-input-54-2f5e3f538e67>:3: SettingWithCopyWarning: \n",
      "A value is trying to be set on a copy of a slice from a DataFrame.\n",
      "Try using .loc[row_indexer,col_indexer] = value instead\n",
      "\n",
      "See the caveats in the documentation: https://pandas.pydata.org/pandas-docs/stable/user_guide/indexing.html#returning-a-view-versus-a-copy\n",
      "  test_OUT1_traditional['label'] = test_OUT1_traditional.label.map({0 : 'NOT', 1: 'OFF'})\n"
     ]
    },
    {
     "data": {
      "text/html": [
       "<div>\n",
       "<style scoped>\n",
       "    .dataframe tbody tr th:only-of-type {\n",
       "        vertical-align: middle;\n",
       "    }\n",
       "\n",
       "    .dataframe tbody tr th {\n",
       "        vertical-align: top;\n",
       "    }\n",
       "\n",
       "    .dataframe thead th {\n",
       "        text-align: right;\n",
       "    }\n",
       "</style>\n",
       "<table border=\"1\" class=\"dataframe\">\n",
       "  <thead>\n",
       "    <tr style=\"text-align: right;\">\n",
       "      <th></th>\n",
       "      <th>id</th>\n",
       "      <th>label</th>\n",
       "    </tr>\n",
       "  </thead>\n",
       "  <tbody>\n",
       "    <tr>\n",
       "      <th>0</th>\n",
       "      <td>37</td>\n",
       "      <td>NOT</td>\n",
       "    </tr>\n",
       "    <tr>\n",
       "      <th>1</th>\n",
       "      <td>127</td>\n",
       "      <td>OFF</td>\n",
       "    </tr>\n",
       "    <tr>\n",
       "      <th>2</th>\n",
       "      <td>143</td>\n",
       "      <td>NOT</td>\n",
       "    </tr>\n",
       "    <tr>\n",
       "      <th>3</th>\n",
       "      <td>146</td>\n",
       "      <td>OFF</td>\n",
       "    </tr>\n",
       "    <tr>\n",
       "      <th>4</th>\n",
       "      <td>186</td>\n",
       "      <td>OFF</td>\n",
       "    </tr>\n",
       "  </tbody>\n",
       "</table>\n",
       "</div>"
      ],
      "text/plain": [
       "    id label\n",
       "0   37   NOT\n",
       "1  127   OFF\n",
       "2  143   NOT\n",
       "3  146   OFF\n",
       "4  186   OFF"
      ]
     },
     "execution_count": 54,
     "metadata": {},
     "output_type": "execute_result"
    }
   ],
   "source": [
    "test_OUT1['label'] = svm_pipe.predict(test_OUT1)\n",
    "test_OUT1_traditional = test_OUT1[['id', 'label']]\n",
    "test_OUT1_traditional['label'] = test_OUT1_traditional.label.map({0 : 'NOT', 1: 'OFF'}) \n",
    "test_OUT1_traditional.head()"
   ]
  },
  {
   "cell_type": "code",
   "execution_count": 55,
   "id": "7451299a",
   "metadata": {},
   "outputs": [
    {
     "data": {
      "text/plain": [
       "(1207, 2)"
      ]
     },
     "execution_count": 55,
     "metadata": {},
     "output_type": "execute_result"
    }
   ],
   "source": [
    "test_OUT1_traditional.shape"
   ]
  },
  {
   "cell_type": "code",
   "execution_count": 56,
   "id": "20190404",
   "metadata": {},
   "outputs": [
    {
     "data": {
      "text/plain": [
       "NOT    744\n",
       "OFF    463\n",
       "Name: label, dtype: int64"
      ]
     },
     "execution_count": 56,
     "metadata": {},
     "output_type": "execute_result"
    }
   ],
   "source": [
    "test_OUT1_traditional.label.value_counts()"
   ]
  },
  {
   "cell_type": "code",
   "execution_count": 57,
   "id": "e1866bd3",
   "metadata": {},
   "outputs": [],
   "source": [
    "#test_OUT1_traditional.to_csv('test_OUT1_traditional.csv', index=False)"
   ]
  },
  {
   "cell_type": "code",
   "execution_count": 58,
   "id": "ad30f274",
   "metadata": {},
   "outputs": [
    {
     "name": "stdout",
     "output_type": "stream",
     "text": [
      "              precision    recall  f1-score   support\n",
      "\n",
      "         NOT       0.68      0.77      0.72       664\n",
      "         OFF       0.67      0.57      0.61       543\n",
      "\n",
      "    accuracy                           0.68      1207\n",
      "   macro avg       0.67      0.67      0.67      1207\n",
      "weighted avg       0.68      0.68      0.67      1207\n",
      "\n"
     ]
    },
    {
     "data": {
      "image/png": "[encoded data removed]",
      "text/plain": [
       "<Figure size 864x360 with 2 Axes>"
      ]
     },
     "metadata": {},
     "output_type": "display_data"
    }
   ],
   "source": [
    "test_SET_gold = pd.read_csv('labels/test_OUT1_gold.csv', delimiter=',', encoding='utf-8')\n",
    "test_SET_traditional = pd.read_csv('test_OUT1_traditional.csv', delimiter=',', encoding='utf-8')\n",
    "\n",
    "y_val = list(test_SET_gold.label)\n",
    "y_val_pred = list(test_SET_traditional.label)\n",
    "\n",
    "print(classification_report(y_val, y_val_pred))\n",
    "\n",
    "cm = confusion_matrix(y_val, y_val_pred)\n",
    "\n",
    "group_names = ['True Neg','False Pos','False Neg','True Pos']\n",
    "\n",
    "group_counts = [\"{0:0.0f}\".format(value) for value in\n",
    "                cm.flatten()]\n",
    "\n",
    "group_percentages = [\"{0:.2%}\".format(value) for value in\n",
    "                     cm.flatten()/np.sum(cm)]\n",
    "\n",
    "labels = [f\"{v1}\\n{v2}\\n{v3}\" for v1, v2, v3 in\n",
    "          zip(group_names,group_counts,group_percentages)]\n",
    "\n",
    "labels = np.asarray(labels).reshape(2,2)\n",
    "\n",
    "ax = sns.heatmap(cm, annot=labels, fmt='', cmap='Blues')\n",
    "\n",
    "ax.set_title('Traditional on Ruddit Testset: Norms of Offensiveness for English Reddit Comments \\n\\n');\n",
    "ax.set_xlabel('\\nPredicted Label')\n",
    "ax.set_ylabel('True Label');\n",
    "\n",
    "## Ticket labels - List must be in alphabetical order\n",
    "ax.xaxis.set_ticklabels(['NOT','OFF'])\n",
    "ax.yaxis.set_ticklabels(['NOT','OFF'])\n",
    "\n",
    "plt.savefig('LinearSVC_on_test_Ruddit.png', bbox_inches=\"tight\")\n",
    "\n",
    "## Display the visualization of the Confusion Matrix.\n",
    "plt.show();"
   ]
  },
  {
   "cell_type": "code",
   "execution_count": null,
   "id": "b62bc2c5",
   "metadata": {},
   "outputs": [],
   "source": []
  },
  {
   "cell_type": "markdown",
   "id": "62fd608d",
   "metadata": {},
   "source": [
    "## test_OUT2_traditional"
   ]
  },
  {
   "cell_type": "code",
   "execution_count": 59,
   "id": "b73db21c",
   "metadata": {},
   "outputs": [
    {
     "data": {
      "text/html": [
       "<div>\n",
       "<style scoped>\n",
       "    .dataframe tbody tr th:only-of-type {\n",
       "        vertical-align: middle;\n",
       "    }\n",
       "\n",
       "    .dataframe tbody tr th {\n",
       "        vertical-align: top;\n",
       "    }\n",
       "\n",
       "    .dataframe thead th {\n",
       "        text-align: right;\n",
       "    }\n",
       "</style>\n",
       "<table border=\"1\" class=\"dataframe\">\n",
       "  <thead>\n",
       "    <tr style=\"text-align: right;\">\n",
       "      <th></th>\n",
       "      <th>id</th>\n",
       "      <th>tweet</th>\n",
       "    </tr>\n",
       "  </thead>\n",
       "  <tbody>\n",
       "    <tr>\n",
       "      <th>0</th>\n",
       "      <td>0072b9c3697ab8cc</td>\n",
       "      <td>== Argh == \\r\\n\\r\\n Some random idiot deleted ...</td>\n",
       "    </tr>\n",
       "    <tr>\n",
       "      <th>1</th>\n",
       "      <td>0081b14d79f54b31</td>\n",
       "      <td>(we hate america and we are going to bomb the ...</td>\n",
       "    </tr>\n",
       "    <tr>\n",
       "      <th>2</th>\n",
       "      <td>008eb47c4684d190</td>\n",
       "      <td>\" \\r\\n\\r\\n So, on the tenth anniversary of 9/1...</td>\n",
       "    </tr>\n",
       "    <tr>\n",
       "      <th>3</th>\n",
       "      <td>010c2a979fab2e3f</td>\n",
       "      <td>casualt i fucked your mum and i liked it !!ies</td>\n",
       "    </tr>\n",
       "    <tr>\n",
       "      <th>4</th>\n",
       "      <td>01680b05bde74236</td>\n",
       "      <td>\"Welcome! \\r\\n\\r\\n Hello, , and welcome to Wik...</td>\n",
       "    </tr>\n",
       "  </tbody>\n",
       "</table>\n",
       "</div>"
      ],
      "text/plain": [
       "                 id                                              tweet\n",
       "0  0072b9c3697ab8cc  == Argh == \\r\\n\\r\\n Some random idiot deleted ...\n",
       "1  0081b14d79f54b31  (we hate america and we are going to bomb the ...\n",
       "2  008eb47c4684d190  \" \\r\\n\\r\\n So, on the tenth anniversary of 9/1...\n",
       "3  010c2a979fab2e3f     casualt i fucked your mum and i liked it !!ies\n",
       "4  01680b05bde74236  \"Welcome! \\r\\n\\r\\n Hello, , and welcome to Wik..."
      ]
     },
     "execution_count": 59,
     "metadata": {},
     "output_type": "execute_result"
    }
   ],
   "source": [
    "data_path = 'test_data/test_OUT2.csv'\n",
    "test_OUT2 = pd.read_csv(data_path, delimiter=',', encoding='utf-8')\n",
    "test_OUT2.head()"
   ]
  },
  {
   "cell_type": "code",
   "execution_count": 60,
   "id": "62834f1c",
   "metadata": {
    "scrolled": true
   },
   "outputs": [
    {
     "data": {
      "text/html": [
       "<div>\n",
       "<style scoped>\n",
       "    .dataframe tbody tr th:only-of-type {\n",
       "        vertical-align: middle;\n",
       "    }\n",
       "\n",
       "    .dataframe tbody tr th {\n",
       "        vertical-align: top;\n",
       "    }\n",
       "\n",
       "    .dataframe thead th {\n",
       "        text-align: right;\n",
       "    }\n",
       "</style>\n",
       "<table border=\"1\" class=\"dataframe\">\n",
       "  <thead>\n",
       "    <tr style=\"text-align: right;\">\n",
       "      <th></th>\n",
       "      <th>id</th>\n",
       "      <th>text</th>\n",
       "    </tr>\n",
       "  </thead>\n",
       "  <tbody>\n",
       "    <tr>\n",
       "      <th>0</th>\n",
       "      <td>0072b9c3697ab8cc</td>\n",
       "      <td>== Argh == \\r\\n\\r\\n Some random idiot deleted ...</td>\n",
       "    </tr>\n",
       "    <tr>\n",
       "      <th>1</th>\n",
       "      <td>0081b14d79f54b31</td>\n",
       "      <td>(we hate america and we are going to bomb the ...</td>\n",
       "    </tr>\n",
       "    <tr>\n",
       "      <th>2</th>\n",
       "      <td>008eb47c4684d190</td>\n",
       "      <td>\" \\r\\n\\r\\n So, on the tenth anniversary of 9/1...</td>\n",
       "    </tr>\n",
       "    <tr>\n",
       "      <th>3</th>\n",
       "      <td>010c2a979fab2e3f</td>\n",
       "      <td>casualt i fucked your mum and i liked it !!ies</td>\n",
       "    </tr>\n",
       "    <tr>\n",
       "      <th>4</th>\n",
       "      <td>01680b05bde74236</td>\n",
       "      <td>\"Welcome! \\r\\n\\r\\n Hello, , and welcome to Wik...</td>\n",
       "    </tr>\n",
       "  </tbody>\n",
       "</table>\n",
       "</div>"
      ],
      "text/plain": [
       "                 id                                               text\n",
       "0  0072b9c3697ab8cc  == Argh == \\r\\n\\r\\n Some random idiot deleted ...\n",
       "1  0081b14d79f54b31  (we hate america and we are going to bomb the ...\n",
       "2  008eb47c4684d190  \" \\r\\n\\r\\n So, on the tenth anniversary of 9/1...\n",
       "3  010c2a979fab2e3f     casualt i fucked your mum and i liked it !!ies\n",
       "4  01680b05bde74236  \"Welcome! \\r\\n\\r\\n Hello, , and welcome to Wik..."
      ]
     },
     "execution_count": 60,
     "metadata": {},
     "output_type": "execute_result"
    }
   ],
   "source": [
    "test_OUT2.rename({'tweet': 'text'}, axis=1, inplace=True) # rename columns if necessary\n",
    "test_OUT2.head()"
   ]
  },
  {
   "cell_type": "code",
   "execution_count": 61,
   "id": "90f2e964",
   "metadata": {},
   "outputs": [
    {
     "data": {
      "text/plain": [
       "(1200, 2)"
      ]
     },
     "execution_count": 61,
     "metadata": {},
     "output_type": "execute_result"
    }
   ],
   "source": [
    "test_OUT2.shape"
   ]
  },
  {
   "cell_type": "code",
   "execution_count": 62,
   "id": "aece628b",
   "metadata": {},
   "outputs": [
    {
     "data": {
      "text/plain": [
       "id      0\n",
       "text    0\n",
       "dtype: int64"
      ]
     },
     "execution_count": 62,
     "metadata": {},
     "output_type": "execute_result"
    }
   ],
   "source": [
    "# Check for missing values\n",
    "test_OUT2.isnull().sum()"
   ]
  },
  {
   "cell_type": "code",
   "execution_count": 63,
   "id": "29e74260",
   "metadata": {},
   "outputs": [
    {
     "data": {
      "text/plain": [
       "0"
      ]
     },
     "execution_count": 63,
     "metadata": {},
     "output_type": "execute_result"
    }
   ],
   "source": [
    "# Check for duplicates\n",
    "test_OUT2.duplicated().sum()"
   ]
  },
  {
   "cell_type": "code",
   "execution_count": 64,
   "id": "8a5008e3",
   "metadata": {
    "scrolled": true
   },
   "outputs": [
    {
     "data": {
      "text/html": [
       "<div>\n",
       "<style scoped>\n",
       "    .dataframe tbody tr th:only-of-type {\n",
       "        vertical-align: middle;\n",
       "    }\n",
       "\n",
       "    .dataframe tbody tr th {\n",
       "        vertical-align: top;\n",
       "    }\n",
       "\n",
       "    .dataframe thead th {\n",
       "        text-align: right;\n",
       "    }\n",
       "</style>\n",
       "<table border=\"1\" class=\"dataframe\">\n",
       "  <thead>\n",
       "    <tr style=\"text-align: right;\">\n",
       "      <th></th>\n",
       "      <th>id</th>\n",
       "      <th>text</th>\n",
       "      <th>compound</th>\n",
       "      <th>neg</th>\n",
       "      <th>neu</th>\n",
       "      <th>pos</th>\n",
       "      <th>prof</th>\n",
       "      <th>prof_prob</th>\n",
       "      <th>clean</th>\n",
       "    </tr>\n",
       "  </thead>\n",
       "  <tbody>\n",
       "    <tr>\n",
       "      <th>0</th>\n",
       "      <td>0072b9c3697ab8cc</td>\n",
       "      <td>== Argh == \\r\\n\\r\\n Some random idiot deleted ...</td>\n",
       "      <td>-0.5106</td>\n",
       "      <td>0.231</td>\n",
       "      <td>0.769</td>\n",
       "      <td>0.000</td>\n",
       "      <td>1</td>\n",
       "      <td>0.931627</td>\n",
       "      <td>argh random idiot deleted whole japan article</td>\n",
       "    </tr>\n",
       "    <tr>\n",
       "      <th>1</th>\n",
       "      <td>0081b14d79f54b31</td>\n",
       "      <td>(we hate america and we are going to bomb the ...</td>\n",
       "      <td>-0.4404</td>\n",
       "      <td>0.266</td>\n",
       "      <td>0.579</td>\n",
       "      <td>0.154</td>\n",
       "      <td>1</td>\n",
       "      <td>0.970093</td>\n",
       "      <td>hate america going bomb shit city queza rain</td>\n",
       "    </tr>\n",
       "    <tr>\n",
       "      <th>2</th>\n",
       "      <td>008eb47c4684d190</td>\n",
       "      <td>\" \\r\\n\\r\\n So, on the tenth anniversary of 9/1...</td>\n",
       "      <td>-0.9956</td>\n",
       "      <td>0.241</td>\n",
       "      <td>0.727</td>\n",
       "      <td>0.032</td>\n",
       "      <td>1</td>\n",
       "      <td>0.804672</td>\n",
       "      <td>tenth anniversary new york time columnist paul...</td>\n",
       "    </tr>\n",
       "    <tr>\n",
       "      <th>3</th>\n",
       "      <td>010c2a979fab2e3f</td>\n",
       "      <td>casualt i fucked your mum and i liked it !!ies</td>\n",
       "      <td>-0.4912</td>\n",
       "      <td>0.362</td>\n",
       "      <td>0.435</td>\n",
       "      <td>0.203</td>\n",
       "      <td>1</td>\n",
       "      <td>0.995155</td>\n",
       "      <td>casualt fucked mum liked y</td>\n",
       "    </tr>\n",
       "    <tr>\n",
       "      <th>4</th>\n",
       "      <td>01680b05bde74236</td>\n",
       "      <td>\"Welcome! \\r\\n\\r\\n Hello, , and welcome to Wik...</td>\n",
       "      <td>0.9880</td>\n",
       "      <td>0.000</td>\n",
       "      <td>0.727</td>\n",
       "      <td>0.273</td>\n",
       "      <td>0</td>\n",
       "      <td>0.016452</td>\n",
       "      <td>welcome hello welcome wikipedia thank hope lik...</td>\n",
       "    </tr>\n",
       "  </tbody>\n",
       "</table>\n",
       "</div>"
      ],
      "text/plain": [
       "                 id                                               text  \\\n",
       "0  0072b9c3697ab8cc  == Argh == \\r\\n\\r\\n Some random idiot deleted ...   \n",
       "1  0081b14d79f54b31  (we hate america and we are going to bomb the ...   \n",
       "2  008eb47c4684d190  \" \\r\\n\\r\\n So, on the tenth anniversary of 9/1...   \n",
       "3  010c2a979fab2e3f     casualt i fucked your mum and i liked it !!ies   \n",
       "4  01680b05bde74236  \"Welcome! \\r\\n\\r\\n Hello, , and welcome to Wik...   \n",
       "\n",
       "   compound    neg    neu    pos  prof  prof_prob  \\\n",
       "0   -0.5106  0.231  0.769  0.000     1   0.931627   \n",
       "1   -0.4404  0.266  0.579  0.154     1   0.970093   \n",
       "2   -0.9956  0.241  0.727  0.032     1   0.804672   \n",
       "3   -0.4912  0.362  0.435  0.203     1   0.995155   \n",
       "4    0.9880  0.000  0.727  0.273     0   0.016452   \n",
       "\n",
       "                                               clean  \n",
       "0      argh random idiot deleted whole japan article  \n",
       "1       hate america going bomb shit city queza rain  \n",
       "2  tenth anniversary new york time columnist paul...  \n",
       "3                         casualt fucked mum liked y  \n",
       "4  welcome hello welcome wikipedia thank hope lik...  "
      ]
     },
     "execution_count": 64,
     "metadata": {},
     "output_type": "execute_result"
    }
   ],
   "source": [
    "# Feature extraction > Preprocessing\n",
    "\n",
    "test_OUT2['compound'] = [analyzer.polarity_scores(x)['compound'] for x in test_OUT2['text']]\n",
    "test_OUT2['neg'] = [analyzer.polarity_scores(x)['neg'] for x in test_OUT2['text']]\n",
    "test_OUT2['neu'] = [analyzer.polarity_scores(x)['neu'] for x in test_OUT2['text']]\n",
    "test_OUT2['pos'] = [analyzer.polarity_scores(x)['pos'] for x in test_OUT2['text']]\n",
    "\n",
    "test_OUT2['prof'] = predict(test_OUT2['text'])\n",
    "test_OUT2['prof_prob'] = predict_prob(test_OUT2['text'])\n",
    "\n",
    "test_OUT2['clean'] = test_OUT2['text'].apply(lambda x: clean(x))\n",
    "test_OUT2.head()"
   ]
  },
  {
   "cell_type": "code",
   "execution_count": 65,
   "id": "e8456c26",
   "metadata": {
    "scrolled": false
   },
   "outputs": [
    {
     "name": "stderr",
     "output_type": "stream",
     "text": [
      "<ipython-input-65-330763420975>:3: SettingWithCopyWarning: \n",
      "A value is trying to be set on a copy of a slice from a DataFrame.\n",
      "Try using .loc[row_indexer,col_indexer] = value instead\n",
      "\n",
      "See the caveats in the documentation: https://pandas.pydata.org/pandas-docs/stable/user_guide/indexing.html#returning-a-view-versus-a-copy\n",
      "  test_OUT2_traditional['label'] = test_OUT2_traditional.label.map({0 : 'NOT', 1: 'OFF'})\n"
     ]
    },
    {
     "data": {
      "text/html": [
       "<div>\n",
       "<style scoped>\n",
       "    .dataframe tbody tr th:only-of-type {\n",
       "        vertical-align: middle;\n",
       "    }\n",
       "\n",
       "    .dataframe tbody tr th {\n",
       "        vertical-align: top;\n",
       "    }\n",
       "\n",
       "    .dataframe thead th {\n",
       "        text-align: right;\n",
       "    }\n",
       "</style>\n",
       "<table border=\"1\" class=\"dataframe\">\n",
       "  <thead>\n",
       "    <tr style=\"text-align: right;\">\n",
       "      <th></th>\n",
       "      <th>id</th>\n",
       "      <th>label</th>\n",
       "    </tr>\n",
       "  </thead>\n",
       "  <tbody>\n",
       "    <tr>\n",
       "      <th>0</th>\n",
       "      <td>0072b9c3697ab8cc</td>\n",
       "      <td>OFF</td>\n",
       "    </tr>\n",
       "    <tr>\n",
       "      <th>1</th>\n",
       "      <td>0081b14d79f54b31</td>\n",
       "      <td>OFF</td>\n",
       "    </tr>\n",
       "    <tr>\n",
       "      <th>2</th>\n",
       "      <td>008eb47c4684d190</td>\n",
       "      <td>OFF</td>\n",
       "    </tr>\n",
       "    <tr>\n",
       "      <th>3</th>\n",
       "      <td>010c2a979fab2e3f</td>\n",
       "      <td>OFF</td>\n",
       "    </tr>\n",
       "    <tr>\n",
       "      <th>4</th>\n",
       "      <td>01680b05bde74236</td>\n",
       "      <td>NOT</td>\n",
       "    </tr>\n",
       "  </tbody>\n",
       "</table>\n",
       "</div>"
      ],
      "text/plain": [
       "                 id label\n",
       "0  0072b9c3697ab8cc   OFF\n",
       "1  0081b14d79f54b31   OFF\n",
       "2  008eb47c4684d190   OFF\n",
       "3  010c2a979fab2e3f   OFF\n",
       "4  01680b05bde74236   NOT"
      ]
     },
     "execution_count": 65,
     "metadata": {},
     "output_type": "execute_result"
    }
   ],
   "source": [
    "test_OUT2['label'] = svm_pipe.predict(test_OUT2)\n",
    "test_OUT2_traditional = test_OUT2[['id', 'label']]\n",
    "test_OUT2_traditional['label'] = test_OUT2_traditional.label.map({0 : 'NOT', 1: 'OFF'}) \n",
    "test_OUT2_traditional.head()"
   ]
  },
  {
   "cell_type": "code",
   "execution_count": 66,
   "id": "e85a3e1f",
   "metadata": {},
   "outputs": [
    {
     "data": {
      "text/plain": [
       "(1200, 2)"
      ]
     },
     "execution_count": 66,
     "metadata": {},
     "output_type": "execute_result"
    }
   ],
   "source": [
    "test_OUT2_traditional.shape"
   ]
  },
  {
   "cell_type": "code",
   "execution_count": 67,
   "id": "b1601fa2",
   "metadata": {},
   "outputs": [
    {
     "data": {
      "text/plain": [
       "OFF    660\n",
       "NOT    540\n",
       "Name: label, dtype: int64"
      ]
     },
     "execution_count": 67,
     "metadata": {},
     "output_type": "execute_result"
    }
   ],
   "source": [
    "test_OUT2_traditional.label.value_counts()"
   ]
  },
  {
   "cell_type": "code",
   "execution_count": 68,
   "id": "3d3cf547",
   "metadata": {},
   "outputs": [],
   "source": [
    "#test_OUT2_traditional.to_csv('test_OUT2_traditional.csv', index=False)"
   ]
  },
  {
   "cell_type": "code",
   "execution_count": 69,
   "id": "1c00c7c6",
   "metadata": {},
   "outputs": [
    {
     "name": "stdout",
     "output_type": "stream",
     "text": [
      "              precision    recall  f1-score   support\n",
      "\n",
      "         NOT       0.94      0.84      0.89       600\n",
      "         OFF       0.86      0.94      0.90       600\n",
      "\n",
      "    accuracy                           0.90      1200\n",
      "   macro avg       0.90      0.90      0.89      1200\n",
      "weighted avg       0.90      0.90      0.89      1200\n",
      "\n"
     ]
    },
    {
     "data": {
      "image/png": "[encoded data removed]",
      "text/plain": [
       "<Figure size 864x360 with 2 Axes>"
      ]
     },
     "metadata": {},
     "output_type": "display_data"
    }
   ],
   "source": [
    "test_SET_gold = pd.read_csv('labels/test_OUT2_gold.csv', delimiter=',', encoding='utf-8')\n",
    "test_SET_traditional = pd.read_csv('test_OUT2_traditional.csv', delimiter=',', encoding='utf-8')\n",
    "\n",
    "y_val = list(test_SET_gold.label)\n",
    "y_val_pred = list(test_SET_traditional.label)\n",
    "\n",
    "print(classification_report(y_val, y_val_pred))\n",
    "\n",
    "cm = confusion_matrix(y_val, y_val_pred)\n",
    "\n",
    "group_names = ['True Neg','False Pos','False Neg','True Pos']\n",
    "\n",
    "group_counts = [\"{0:0.0f}\".format(value) for value in\n",
    "                cm.flatten()]\n",
    "\n",
    "group_percentages = [\"{0:.2%}\".format(value) for value in\n",
    "                     cm.flatten()/np.sum(cm)]\n",
    "\n",
    "labels = [f\"{v1}\\n{v2}\\n{v3}\" for v1, v2, v3 in\n",
    "          zip(group_names,group_counts,group_percentages)]\n",
    "\n",
    "labels = np.asarray(labels).reshape(2,2)\n",
    "\n",
    "ax = sns.heatmap(cm, annot=labels, fmt='', cmap='Blues')\n",
    "\n",
    "ax.set_title('Traditional on Wikipedia Testset (used in the first Jigsaw competition on Kaggle) \\n\\n');\n",
    "ax.set_xlabel('\\nPredicted Label')\n",
    "ax.set_ylabel('True Label');\n",
    "\n",
    "## Ticket labels - List must be in alphabetical order\n",
    "ax.xaxis.set_ticklabels(['NOT','OFF'])\n",
    "ax.yaxis.set_ticklabels(['NOT','OFF'])\n",
    "\n",
    "plt.savefig('LinearSVC_on_test_Wikipedia.png', bbox_inches=\"tight\")\n",
    "\n",
    "## Display the visualization of the Confusion Matrix.\n",
    "plt.show();"
   ]
  },
  {
   "cell_type": "code",
   "execution_count": null,
   "id": "1ea58ce9",
   "metadata": {},
   "outputs": [],
   "source": []
  },
  {
   "cell_type": "markdown",
   "id": "2809d840",
   "metadata": {},
   "source": [
    "## test_TEXTGAIN"
   ]
  },
  {
   "cell_type": "code",
   "execution_count": 70,
   "id": "df47ef6f",
   "metadata": {},
   "outputs": [
    {
     "data": {
      "text/html": [
       "<div>\n",
       "<style scoped>\n",
       "    .dataframe tbody tr th:only-of-type {\n",
       "        vertical-align: middle;\n",
       "    }\n",
       "\n",
       "    .dataframe tbody tr th {\n",
       "        vertical-align: top;\n",
       "    }\n",
       "\n",
       "    .dataframe thead th {\n",
       "        text-align: right;\n",
       "    }\n",
       "</style>\n",
       "<table border=\"1\" class=\"dataframe\">\n",
       "  <thead>\n",
       "    <tr style=\"text-align: right;\">\n",
       "      <th></th>\n",
       "      <th>id</th>\n",
       "      <th>tweet</th>\n",
       "    </tr>\n",
       "  </thead>\n",
       "  <tbody>\n",
       "    <tr>\n",
       "      <th>0</th>\n",
       "      <td>0</td>\n",
       "      <td>a few American personality camels, well adjust...</td>\n",
       "    </tr>\n",
       "    <tr>\n",
       "      <th>1</th>\n",
       "      <td>1</td>\n",
       "      <td>@juniormufasa_  how come lukaku flop @ man uu ...</td>\n",
       "    </tr>\n",
       "    <tr>\n",
       "      <th>2</th>\n",
       "      <td>2</td>\n",
       "      <td>LUKAKU IS SUCH A NIGGER I HATE THIS APE</td>\n",
       "    </tr>\n",
       "    <tr>\n",
       "      <th>3</th>\n",
       "      <td>3</td>\n",
       "      <td>I beg you lot keep that porch monkey coon Shau...</td>\n",
       "    </tr>\n",
       "    <tr>\n",
       "      <th>4</th>\n",
       "      <td>4</td>\n",
       "      <td>TRY NOT TO GET HIGH AS THE MONKEY !!! ❌\\r\\n\\r\\...</td>\n",
       "    </tr>\n",
       "  </tbody>\n",
       "</table>\n",
       "</div>"
      ],
      "text/plain": [
       "   id                                              tweet\n",
       "0   0  a few American personality camels, well adjust...\n",
       "1   1  @juniormufasa_  how come lukaku flop @ man uu ...\n",
       "2   2            LUKAKU IS SUCH A NIGGER I HATE THIS APE\n",
       "3   3  I beg you lot keep that porch monkey coon Shau...\n",
       "4   4  TRY NOT TO GET HIGH AS THE MONKEY !!! ❌\\r\\n\\r\\..."
      ]
     },
     "execution_count": 70,
     "metadata": {},
     "output_type": "execute_result"
    }
   ],
   "source": [
    "data_path = 'test_data/test_TEXTGAIN.csv'\n",
    "test_TEXTGAIN = pd.read_csv(data_path, delimiter=',', encoding='utf-8')\n",
    "test_TEXTGAIN.head()"
   ]
  },
  {
   "cell_type": "code",
   "execution_count": 71,
   "id": "532ae6c1",
   "metadata": {
    "scrolled": true
   },
   "outputs": [
    {
     "data": {
      "text/html": [
       "<div>\n",
       "<style scoped>\n",
       "    .dataframe tbody tr th:only-of-type {\n",
       "        vertical-align: middle;\n",
       "    }\n",
       "\n",
       "    .dataframe tbody tr th {\n",
       "        vertical-align: top;\n",
       "    }\n",
       "\n",
       "    .dataframe thead th {\n",
       "        text-align: right;\n",
       "    }\n",
       "</style>\n",
       "<table border=\"1\" class=\"dataframe\">\n",
       "  <thead>\n",
       "    <tr style=\"text-align: right;\">\n",
       "      <th></th>\n",
       "      <th>id</th>\n",
       "      <th>text</th>\n",
       "    </tr>\n",
       "  </thead>\n",
       "  <tbody>\n",
       "    <tr>\n",
       "      <th>0</th>\n",
       "      <td>0</td>\n",
       "      <td>a few American personality camels, well adjust...</td>\n",
       "    </tr>\n",
       "    <tr>\n",
       "      <th>1</th>\n",
       "      <td>1</td>\n",
       "      <td>@juniormufasa_  how come lukaku flop @ man uu ...</td>\n",
       "    </tr>\n",
       "    <tr>\n",
       "      <th>2</th>\n",
       "      <td>2</td>\n",
       "      <td>LUKAKU IS SUCH A NIGGER I HATE THIS APE</td>\n",
       "    </tr>\n",
       "    <tr>\n",
       "      <th>3</th>\n",
       "      <td>3</td>\n",
       "      <td>I beg you lot keep that porch monkey coon Shau...</td>\n",
       "    </tr>\n",
       "    <tr>\n",
       "      <th>4</th>\n",
       "      <td>4</td>\n",
       "      <td>TRY NOT TO GET HIGH AS THE MONKEY !!! ❌\\r\\n\\r\\...</td>\n",
       "    </tr>\n",
       "  </tbody>\n",
       "</table>\n",
       "</div>"
      ],
      "text/plain": [
       "   id                                               text\n",
       "0   0  a few American personality camels, well adjust...\n",
       "1   1  @juniormufasa_  how come lukaku flop @ man uu ...\n",
       "2   2            LUKAKU IS SUCH A NIGGER I HATE THIS APE\n",
       "3   3  I beg you lot keep that porch monkey coon Shau...\n",
       "4   4  TRY NOT TO GET HIGH AS THE MONKEY !!! ❌\\r\\n\\r\\..."
      ]
     },
     "execution_count": 71,
     "metadata": {},
     "output_type": "execute_result"
    }
   ],
   "source": [
    "test_TEXTGAIN.rename({'tweet': 'text'}, axis=1, inplace=True) # rename columns if necessary\n",
    "test_TEXTGAIN.head()"
   ]
  },
  {
   "cell_type": "code",
   "execution_count": 72,
   "id": "b4753aec",
   "metadata": {},
   "outputs": [
    {
     "data": {
      "text/plain": [
       "(1276, 2)"
      ]
     },
     "execution_count": 72,
     "metadata": {},
     "output_type": "execute_result"
    }
   ],
   "source": [
    "test_TEXTGAIN.shape"
   ]
  },
  {
   "cell_type": "code",
   "execution_count": 73,
   "id": "1e092f19",
   "metadata": {},
   "outputs": [
    {
     "data": {
      "text/plain": [
       "id      0\n",
       "text    0\n",
       "dtype: int64"
      ]
     },
     "execution_count": 73,
     "metadata": {},
     "output_type": "execute_result"
    }
   ],
   "source": [
    "# Check for missing values\n",
    "test_TEXTGAIN.isnull().sum()"
   ]
  },
  {
   "cell_type": "code",
   "execution_count": 74,
   "id": "923d945d",
   "metadata": {},
   "outputs": [
    {
     "data": {
      "text/plain": [
       "0"
      ]
     },
     "execution_count": 74,
     "metadata": {},
     "output_type": "execute_result"
    }
   ],
   "source": [
    "# Check for duplicates\n",
    "test_TEXTGAIN.duplicated().sum()"
   ]
  },
  {
   "cell_type": "code",
   "execution_count": 75,
   "id": "68bd7df4",
   "metadata": {
    "scrolled": true
   },
   "outputs": [
    {
     "data": {
      "text/html": [
       "<div>\n",
       "<style scoped>\n",
       "    .dataframe tbody tr th:only-of-type {\n",
       "        vertical-align: middle;\n",
       "    }\n",
       "\n",
       "    .dataframe tbody tr th {\n",
       "        vertical-align: top;\n",
       "    }\n",
       "\n",
       "    .dataframe thead th {\n",
       "        text-align: right;\n",
       "    }\n",
       "</style>\n",
       "<table border=\"1\" class=\"dataframe\">\n",
       "  <thead>\n",
       "    <tr style=\"text-align: right;\">\n",
       "      <th></th>\n",
       "      <th>id</th>\n",
       "      <th>text</th>\n",
       "      <th>compound</th>\n",
       "      <th>neg</th>\n",
       "      <th>neu</th>\n",
       "      <th>pos</th>\n",
       "      <th>prof</th>\n",
       "      <th>prof_prob</th>\n",
       "      <th>clean</th>\n",
       "    </tr>\n",
       "  </thead>\n",
       "  <tbody>\n",
       "    <tr>\n",
       "      <th>0</th>\n",
       "      <td>0</td>\n",
       "      <td>a few American personality camels, well adjust...</td>\n",
       "      <td>0.5994</td>\n",
       "      <td>0.000</td>\n",
       "      <td>0.880</td>\n",
       "      <td>0.12</td>\n",
       "      <td>0</td>\n",
       "      <td>0.132960</td>\n",
       "      <td>american personality camel well adjusted cours...</td>\n",
       "    </tr>\n",
       "    <tr>\n",
       "      <th>1</th>\n",
       "      <td>1</td>\n",
       "      <td>@juniormufasa_  how come lukaku flop @ man uu ...</td>\n",
       "      <td>-0.7717</td>\n",
       "      <td>0.401</td>\n",
       "      <td>0.599</td>\n",
       "      <td>0.00</td>\n",
       "      <td>1</td>\n",
       "      <td>0.978385</td>\n",
       "      <td>juniormufasa come lukaku flop man uu de nigger...</td>\n",
       "    </tr>\n",
       "    <tr>\n",
       "      <th>2</th>\n",
       "      <td>2</td>\n",
       "      <td>LUKAKU IS SUCH A NIGGER I HATE THIS APE</td>\n",
       "      <td>-0.8402</td>\n",
       "      <td>0.615</td>\n",
       "      <td>0.385</td>\n",
       "      <td>0.00</td>\n",
       "      <td>1</td>\n",
       "      <td>0.979777</td>\n",
       "      <td>lukaku nigger hate ape</td>\n",
       "    </tr>\n",
       "    <tr>\n",
       "      <th>3</th>\n",
       "      <td>3</td>\n",
       "      <td>I beg you lot keep that porch monkey coon Shau...</td>\n",
       "      <td>0.3182</td>\n",
       "      <td>0.000</td>\n",
       "      <td>0.850</td>\n",
       "      <td>0.15</td>\n",
       "      <td>1</td>\n",
       "      <td>0.589529</td>\n",
       "      <td>beg lot keep porch monkey coon shaun bailey ti...</td>\n",
       "    </tr>\n",
       "    <tr>\n",
       "      <th>4</th>\n",
       "      <td>4</td>\n",
       "      <td>TRY NOT TO GET HIGH AS THE MONKEY !!! ❌\\r\\n\\r\\...</td>\n",
       "      <td>0.0000</td>\n",
       "      <td>0.000</td>\n",
       "      <td>1.000</td>\n",
       "      <td>0.00</td>\n",
       "      <td>0</td>\n",
       "      <td>0.167179</td>\n",
       "      <td>try get high monkey cop hoodie k negotiable co...</td>\n",
       "    </tr>\n",
       "  </tbody>\n",
       "</table>\n",
       "</div>"
      ],
      "text/plain": [
       "   id                                               text  compound    neg  \\\n",
       "0   0  a few American personality camels, well adjust...    0.5994  0.000   \n",
       "1   1  @juniormufasa_  how come lukaku flop @ man uu ...   -0.7717  0.401   \n",
       "2   2            LUKAKU IS SUCH A NIGGER I HATE THIS APE   -0.8402  0.615   \n",
       "3   3  I beg you lot keep that porch monkey coon Shau...    0.3182  0.000   \n",
       "4   4  TRY NOT TO GET HIGH AS THE MONKEY !!! ❌\\r\\n\\r\\...    0.0000  0.000   \n",
       "\n",
       "     neu   pos  prof  prof_prob  \\\n",
       "0  0.880  0.12     0   0.132960   \n",
       "1  0.599  0.00     1   0.978385   \n",
       "2  0.385  0.00     1   0.979777   \n",
       "3  0.850  0.15     1   0.589529   \n",
       "4  1.000  0.00     0   0.167179   \n",
       "\n",
       "                                               clean  \n",
       "0  american personality camel well adjusted cours...  \n",
       "1  juniormufasa come lukaku flop man uu de nigger...  \n",
       "2                             lukaku nigger hate ape  \n",
       "3  beg lot keep porch monkey coon shaun bailey ti...  \n",
       "4  try get high monkey cop hoodie k negotiable co...  "
      ]
     },
     "execution_count": 75,
     "metadata": {},
     "output_type": "execute_result"
    }
   ],
   "source": [
    "# Feature extraction > Preprocessing\n",
    "\n",
    "test_TEXTGAIN['compound'] = [analyzer.polarity_scores(x)['compound'] for x in test_TEXTGAIN['text']]\n",
    "test_TEXTGAIN['neg'] = [analyzer.polarity_scores(x)['neg'] for x in test_TEXTGAIN['text']]\n",
    "test_TEXTGAIN['neu'] = [analyzer.polarity_scores(x)['neu'] for x in test_TEXTGAIN['text']]\n",
    "test_TEXTGAIN['pos'] = [analyzer.polarity_scores(x)['pos'] for x in test_TEXTGAIN['text']]\n",
    "\n",
    "test_TEXTGAIN['prof'] = predict(test_TEXTGAIN['text'])\n",
    "test_TEXTGAIN['prof_prob'] = predict_prob(test_TEXTGAIN['text'])\n",
    "\n",
    "test_TEXTGAIN['clean'] = test_TEXTGAIN['text'].apply(lambda x: clean(x))\n",
    "test_TEXTGAIN.head()"
   ]
  },
  {
   "cell_type": "code",
   "execution_count": 76,
   "id": "5d8d7a97",
   "metadata": {
    "scrolled": false
   },
   "outputs": [
    {
     "name": "stderr",
     "output_type": "stream",
     "text": [
      "<ipython-input-76-a28472a63f10>:3: SettingWithCopyWarning: \n",
      "A value is trying to be set on a copy of a slice from a DataFrame.\n",
      "Try using .loc[row_indexer,col_indexer] = value instead\n",
      "\n",
      "See the caveats in the documentation: https://pandas.pydata.org/pandas-docs/stable/user_guide/indexing.html#returning-a-view-versus-a-copy\n",
      "  test_TEXTGAIN_traditional['label'] = test_TEXTGAIN_traditional.label.map({0 : 'NOT', 1: 'OFF'})\n"
     ]
    },
    {
     "data": {
      "text/html": [
       "<div>\n",
       "<style scoped>\n",
       "    .dataframe tbody tr th:only-of-type {\n",
       "        vertical-align: middle;\n",
       "    }\n",
       "\n",
       "    .dataframe tbody tr th {\n",
       "        vertical-align: top;\n",
       "    }\n",
       "\n",
       "    .dataframe thead th {\n",
       "        text-align: right;\n",
       "    }\n",
       "</style>\n",
       "<table border=\"1\" class=\"dataframe\">\n",
       "  <thead>\n",
       "    <tr style=\"text-align: right;\">\n",
       "      <th></th>\n",
       "      <th>id</th>\n",
       "      <th>label</th>\n",
       "    </tr>\n",
       "  </thead>\n",
       "  <tbody>\n",
       "    <tr>\n",
       "      <th>0</th>\n",
       "      <td>0</td>\n",
       "      <td>NOT</td>\n",
       "    </tr>\n",
       "    <tr>\n",
       "      <th>1</th>\n",
       "      <td>1</td>\n",
       "      <td>OFF</td>\n",
       "    </tr>\n",
       "    <tr>\n",
       "      <th>2</th>\n",
       "      <td>2</td>\n",
       "      <td>OFF</td>\n",
       "    </tr>\n",
       "    <tr>\n",
       "      <th>3</th>\n",
       "      <td>3</td>\n",
       "      <td>NOT</td>\n",
       "    </tr>\n",
       "    <tr>\n",
       "      <th>4</th>\n",
       "      <td>4</td>\n",
       "      <td>NOT</td>\n",
       "    </tr>\n",
       "  </tbody>\n",
       "</table>\n",
       "</div>"
      ],
      "text/plain": [
       "   id label\n",
       "0   0   NOT\n",
       "1   1   OFF\n",
       "2   2   OFF\n",
       "3   3   NOT\n",
       "4   4   NOT"
      ]
     },
     "execution_count": 76,
     "metadata": {},
     "output_type": "execute_result"
    }
   ],
   "source": [
    "test_TEXTGAIN['label'] = svm_pipe.predict(test_TEXTGAIN)\n",
    "test_TEXTGAIN_traditional = test_TEXTGAIN[['id', 'label']]\n",
    "test_TEXTGAIN_traditional['label'] = test_TEXTGAIN_traditional.label.map({0 : 'NOT', 1: 'OFF'}) \n",
    "test_TEXTGAIN_traditional.head()"
   ]
  },
  {
   "cell_type": "code",
   "execution_count": 77,
   "id": "0f28fc41",
   "metadata": {},
   "outputs": [
    {
     "data": {
      "text/plain": [
       "(1276, 2)"
      ]
     },
     "execution_count": 77,
     "metadata": {},
     "output_type": "execute_result"
    }
   ],
   "source": [
    "test_TEXTGAIN_traditional.shape"
   ]
  },
  {
   "cell_type": "code",
   "execution_count": 78,
   "id": "44995930",
   "metadata": {},
   "outputs": [
    {
     "data": {
      "text/plain": [
       "NOT    688\n",
       "OFF    588\n",
       "Name: label, dtype: int64"
      ]
     },
     "execution_count": 78,
     "metadata": {},
     "output_type": "execute_result"
    }
   ],
   "source": [
    "test_TEXTGAIN_traditional.label.value_counts()"
   ]
  },
  {
   "cell_type": "code",
   "execution_count": 79,
   "id": "0bdd857f",
   "metadata": {},
   "outputs": [],
   "source": [
    "#test_TEXTGAIN_traditional.to_csv('test_TEXTGAIN_traditional.csv', index=False)"
   ]
  },
  {
   "cell_type": "code",
   "execution_count": 80,
   "id": "1f836cd9",
   "metadata": {
    "scrolled": false
   },
   "outputs": [
    {
     "name": "stdout",
     "output_type": "stream",
     "text": [
      "              precision    recall  f1-score   support\n",
      "\n",
      "         NOT       0.87      0.55      0.67      1088\n",
      "         OFF       0.16      0.52      0.25       188\n",
      "\n",
      "    accuracy                           0.54      1276\n",
      "   macro avg       0.52      0.53      0.46      1276\n",
      "weighted avg       0.76      0.54      0.61      1276\n",
      "\n"
     ]
    },
    {
     "data": {
      "image/png": "[encoded data removed]",
      "text/plain": [
       "<Figure size 864x360 with 2 Axes>"
      ]
     },
     "metadata": {},
     "output_type": "display_data"
    }
   ],
   "source": [
    "test_SET_gold = pd.read_csv('labels/test_TEXTGAIN_gold.csv', delimiter=',', encoding='utf-8')\n",
    "test_SET_traditional = pd.read_csv('test_TEXTGAIN_traditional.csv', delimiter=',', encoding='utf-8')\n",
    "\n",
    "y_val = list(test_SET_gold.label)\n",
    "y_val_pred = list(test_SET_traditional.label)\n",
    "\n",
    "print(classification_report(y_val, y_val_pred))\n",
    "\n",
    "cm = confusion_matrix(y_val, y_val_pred)\n",
    "\n",
    "group_names = ['True Neg','False Pos','False Neg','True Pos']\n",
    "\n",
    "group_counts = [\"{0:0.0f}\".format(value) for value in\n",
    "                cm.flatten()]\n",
    "\n",
    "group_percentages = [\"{0:.2%}\".format(value) for value in\n",
    "                     cm.flatten()/np.sum(cm)]\n",
    "\n",
    "labels = [f\"{v1}\\n{v2}\\n{v3}\" for v1, v2, v3 in\n",
    "          zip(group_names,group_counts,group_percentages)]\n",
    "\n",
    "labels = np.asarray(labels).reshape(2,2)\n",
    "\n",
    "ax = sns.heatmap(cm, annot=labels, fmt='', cmap='Blues')\n",
    "\n",
    "ax.set_title('Traditional on TextGain Testset (containing English football tweets) \\n\\n');\n",
    "ax.set_xlabel('\\nPredicted Label')\n",
    "ax.set_ylabel('True Label');\n",
    "\n",
    "## Ticket labels - List must be in alphabetical order\n",
    "ax.xaxis.set_ticklabels(['NOT','OFF'])\n",
    "ax.yaxis.set_ticklabels(['NOT','OFF'])\n",
    "\n",
    "plt.savefig('LinearSVC_on_test_TextGain.png', bbox_inches=\"tight\")\n",
    "\n",
    "## Display the visualization of the Confusion Matrix.\n",
    "plt.show();"
   ]
  },
  {
   "cell_type": "code",
   "execution_count": null,
   "id": "ec078c3d",
   "metadata": {},
   "outputs": [],
   "source": []
  }
 ],
 "metadata": {
  "kernelspec": {
   "display_name": "Python 3",
   "language": "python",
   "name": "python3"
  },
  "language_info": {
   "codemirror_mode": {
    "name": "ipython",
    "version": 3
   },
   "file_extension": ".py",
   "mimetype": "text/x-python",
   "name": "python",
   "nbconvert_exporter": "python",
   "pygments_lexer": "ipython3",
   "version": "3.8.8"
  }
 },
 "nbformat": 4,
 "nbformat_minor": 5
}
